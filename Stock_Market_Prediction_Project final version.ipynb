{
  "nbformat": 4,
  "nbformat_minor": 0,
  "metadata": {
    "colab": {
      "name": "Stock Market Prediction Project.ipynb",
      "provenance": [],
      "collapsed_sections": []
    },
    "kernelspec": {
      "display_name": "Python 3",
      "name": "python3"
    },
    "language_info": {
      "name": "python"
    }
  },
  "cells": [
    {
      "cell_type": "code",
      "metadata": {
        "colab": {
          "base_uri": "https://localhost:8080/"
        },
        "id": "8sEUcleSAsOa",
        "outputId": "beef5e0f-afe6-44a3-9f70-4f3ff25c90fa"
      },
      "source": [
        "#importing all the basic libraries reqired for this project\n",
        "import numpy as np\n",
        "import pandas as pd\n",
        "import matplotlib.pyplot as plt\n",
        "import seaborn as sns\n",
        "import tensorflow as tf\n",
        "from tensorflow import keras\n",
        "import pandas_datareader as pdr\n",
        "%matplotlib\n",
        "%matplotlib inline"
      ],
      "execution_count": null,
      "outputs": [
        {
          "output_type": "stream",
          "name": "stdout",
          "text": [
            "Using matplotlib backend: agg\n"
          ]
        }
      ]
    },
    {
      "cell_type": "code",
      "metadata": {
        "id": "qijCT4ofD4GC"
      },
      "source": [
        "#reading the dataset required for our project\n",
        "df = pdr.get_data_tiingo('AAPL', api_key='007e99e97e91f5fb71f5469e91e5c845f22f4db7')"
      ],
      "execution_count": null,
      "outputs": []
    },
    {
      "cell_type": "code",
      "metadata": {
        "id": "wQtiW8jWXaNO"
      },
      "source": [
        "df.to_csv('AAPL.csv')"
      ],
      "execution_count": null,
      "outputs": []
    },
    {
      "cell_type": "code",
      "metadata": {
        "id": "gXxEbGUYXh7t"
      },
      "source": [
        "df = pd.read_csv('AAPL.csv')"
      ],
      "execution_count": null,
      "outputs": []
    },
    {
      "cell_type": "code",
      "metadata": {
        "colab": {
          "base_uri": "https://localhost:8080/",
          "height": 357
        },
        "id": "AeTHVbxVH3gl",
        "outputId": "65adf49f-c9b5-41f9-8a9c-5a08dbe3ec2b"
      },
      "source": [
        "#displaying top 5 rows\n",
        "df.head(10)"
      ],
      "execution_count": null,
      "outputs": [
        {
          "output_type": "execute_result",
          "data": {
            "text/html": [
              "<div>\n",
              "<style scoped>\n",
              "    .dataframe tbody tr th:only-of-type {\n",
              "        vertical-align: middle;\n",
              "    }\n",
              "\n",
              "    .dataframe tbody tr th {\n",
              "        vertical-align: top;\n",
              "    }\n",
              "\n",
              "    .dataframe thead th {\n",
              "        text-align: right;\n",
              "    }\n",
              "</style>\n",
              "<table border=\"1\" class=\"dataframe\">\n",
              "  <thead>\n",
              "    <tr style=\"text-align: right;\">\n",
              "      <th></th>\n",
              "      <th>symbol</th>\n",
              "      <th>date</th>\n",
              "      <th>close</th>\n",
              "      <th>high</th>\n",
              "      <th>low</th>\n",
              "      <th>open</th>\n",
              "      <th>volume</th>\n",
              "      <th>adjClose</th>\n",
              "      <th>adjHigh</th>\n",
              "      <th>adjLow</th>\n",
              "      <th>adjOpen</th>\n",
              "      <th>adjVolume</th>\n",
              "      <th>divCash</th>\n",
              "      <th>splitFactor</th>\n",
              "    </tr>\n",
              "  </thead>\n",
              "  <tbody>\n",
              "    <tr>\n",
              "      <th>0</th>\n",
              "      <td>AAPL</td>\n",
              "      <td>2016-10-17 00:00:00+00:00</td>\n",
              "      <td>117.55</td>\n",
              "      <td>117.84</td>\n",
              "      <td>116.78</td>\n",
              "      <td>117.33</td>\n",
              "      <td>23624896</td>\n",
              "      <td>27.555810</td>\n",
              "      <td>27.623791</td>\n",
              "      <td>27.375309</td>\n",
              "      <td>27.504238</td>\n",
              "      <td>94499584</td>\n",
              "      <td>0.0</td>\n",
              "      <td>1.0</td>\n",
              "    </tr>\n",
              "    <tr>\n",
              "      <th>1</th>\n",
              "      <td>AAPL</td>\n",
              "      <td>2016-10-18 00:00:00+00:00</td>\n",
              "      <td>117.47</td>\n",
              "      <td>118.21</td>\n",
              "      <td>117.45</td>\n",
              "      <td>118.18</td>\n",
              "      <td>24553478</td>\n",
              "      <td>27.537057</td>\n",
              "      <td>27.710526</td>\n",
              "      <td>27.532368</td>\n",
              "      <td>27.703493</td>\n",
              "      <td>98213912</td>\n",
              "      <td>0.0</td>\n",
              "      <td>1.0</td>\n",
              "    </tr>\n",
              "    <tr>\n",
              "      <th>2</th>\n",
              "      <td>AAPL</td>\n",
              "      <td>2016-10-19 00:00:00+00:00</td>\n",
              "      <td>117.12</td>\n",
              "      <td>117.76</td>\n",
              "      <td>113.80</td>\n",
              "      <td>117.25</td>\n",
              "      <td>20034594</td>\n",
              "      <td>27.455011</td>\n",
              "      <td>27.605038</td>\n",
              "      <td>26.676744</td>\n",
              "      <td>27.485485</td>\n",
              "      <td>80138376</td>\n",
              "      <td>0.0</td>\n",
              "      <td>1.0</td>\n",
              "    </tr>\n",
              "    <tr>\n",
              "      <th>3</th>\n",
              "      <td>AAPL</td>\n",
              "      <td>2016-10-20 00:00:00+00:00</td>\n",
              "      <td>117.06</td>\n",
              "      <td>117.38</td>\n",
              "      <td>116.33</td>\n",
              "      <td>116.86</td>\n",
              "      <td>24125801</td>\n",
              "      <td>27.440945</td>\n",
              "      <td>27.515959</td>\n",
              "      <td>27.269821</td>\n",
              "      <td>27.394062</td>\n",
              "      <td>96503204</td>\n",
              "      <td>0.0</td>\n",
              "      <td>1.0</td>\n",
              "    </tr>\n",
              "    <tr>\n",
              "      <th>4</th>\n",
              "      <td>AAPL</td>\n",
              "      <td>2016-10-21 00:00:00+00:00</td>\n",
              "      <td>116.60</td>\n",
              "      <td>116.91</td>\n",
              "      <td>116.28</td>\n",
              "      <td>116.81</td>\n",
              "      <td>23192665</td>\n",
              "      <td>27.333113</td>\n",
              "      <td>27.405783</td>\n",
              "      <td>27.258100</td>\n",
              "      <td>27.382341</td>\n",
              "      <td>92770660</td>\n",
              "      <td>0.0</td>\n",
              "      <td>1.0</td>\n",
              "    </tr>\n",
              "    <tr>\n",
              "      <th>5</th>\n",
              "      <td>AAPL</td>\n",
              "      <td>2016-10-24 00:00:00+00:00</td>\n",
              "      <td>117.65</td>\n",
              "      <td>117.74</td>\n",
              "      <td>117.00</td>\n",
              "      <td>117.10</td>\n",
              "      <td>23538673</td>\n",
              "      <td>27.579252</td>\n",
              "      <td>27.600350</td>\n",
              "      <td>27.426880</td>\n",
              "      <td>27.450322</td>\n",
              "      <td>94154692</td>\n",
              "      <td>0.0</td>\n",
              "      <td>1.0</td>\n",
              "    </tr>\n",
              "    <tr>\n",
              "      <th>6</th>\n",
              "      <td>AAPL</td>\n",
              "      <td>2016-10-25 00:00:00+00:00</td>\n",
              "      <td>118.25</td>\n",
              "      <td>118.36</td>\n",
              "      <td>117.31</td>\n",
              "      <td>117.95</td>\n",
              "      <td>48128970</td>\n",
              "      <td>27.719903</td>\n",
              "      <td>27.745689</td>\n",
              "      <td>27.499550</td>\n",
              "      <td>27.649577</td>\n",
              "      <td>192515880</td>\n",
              "      <td>0.0</td>\n",
              "      <td>1.0</td>\n",
              "    </tr>\n",
              "    <tr>\n",
              "      <th>7</th>\n",
              "      <td>AAPL</td>\n",
              "      <td>2016-10-26 00:00:00+00:00</td>\n",
              "      <td>115.59</td>\n",
              "      <td>115.70</td>\n",
              "      <td>113.31</td>\n",
              "      <td>114.31</td>\n",
              "      <td>66134219</td>\n",
              "      <td>27.096351</td>\n",
              "      <td>27.122137</td>\n",
              "      <td>26.561879</td>\n",
              "      <td>26.796297</td>\n",
              "      <td>264536876</td>\n",
              "      <td>0.0</td>\n",
              "      <td>1.0</td>\n",
              "    </tr>\n",
              "    <tr>\n",
              "      <th>8</th>\n",
              "      <td>AAPL</td>\n",
              "      <td>2016-10-27 00:00:00+00:00</td>\n",
              "      <td>114.48</td>\n",
              "      <td>115.86</td>\n",
              "      <td>114.10</td>\n",
              "      <td>115.39</td>\n",
              "      <td>34562045</td>\n",
              "      <td>26.836148</td>\n",
              "      <td>27.159644</td>\n",
              "      <td>26.747069</td>\n",
              "      <td>27.049468</td>\n",
              "      <td>138248180</td>\n",
              "      <td>0.0</td>\n",
              "      <td>1.0</td>\n",
              "    </tr>\n",
              "    <tr>\n",
              "      <th>9</th>\n",
              "      <td>AAPL</td>\n",
              "      <td>2016-10-28 00:00:00+00:00</td>\n",
              "      <td>113.72</td>\n",
              "      <td>115.21</td>\n",
              "      <td>113.45</td>\n",
              "      <td>113.87</td>\n",
              "      <td>37861662</td>\n",
              "      <td>26.657990</td>\n",
              "      <td>27.007273</td>\n",
              "      <td>26.594697</td>\n",
              "      <td>26.693153</td>\n",
              "      <td>151446648</td>\n",
              "      <td>0.0</td>\n",
              "      <td>1.0</td>\n",
              "    </tr>\n",
              "  </tbody>\n",
              "</table>\n",
              "</div>"
            ],
            "text/plain": [
              "  symbol                       date   close  ...  adjVolume  divCash  splitFactor\n",
              "0   AAPL  2016-10-17 00:00:00+00:00  117.55  ...   94499584      0.0          1.0\n",
              "1   AAPL  2016-10-18 00:00:00+00:00  117.47  ...   98213912      0.0          1.0\n",
              "2   AAPL  2016-10-19 00:00:00+00:00  117.12  ...   80138376      0.0          1.0\n",
              "3   AAPL  2016-10-20 00:00:00+00:00  117.06  ...   96503204      0.0          1.0\n",
              "4   AAPL  2016-10-21 00:00:00+00:00  116.60  ...   92770660      0.0          1.0\n",
              "5   AAPL  2016-10-24 00:00:00+00:00  117.65  ...   94154692      0.0          1.0\n",
              "6   AAPL  2016-10-25 00:00:00+00:00  118.25  ...  192515880      0.0          1.0\n",
              "7   AAPL  2016-10-26 00:00:00+00:00  115.59  ...  264536876      0.0          1.0\n",
              "8   AAPL  2016-10-27 00:00:00+00:00  114.48  ...  138248180      0.0          1.0\n",
              "9   AAPL  2016-10-28 00:00:00+00:00  113.72  ...  151446648      0.0          1.0\n",
              "\n",
              "[10 rows x 14 columns]"
            ]
          },
          "metadata": {},
          "execution_count": 5
        }
      ]
    },
    {
      "cell_type": "code",
      "metadata": {
        "colab": {
          "base_uri": "https://localhost:8080/"
        },
        "id": "D0u84DrCIXNw",
        "outputId": "fea34e8b-9c80-40a2-80c3-0a89302f6ec1"
      },
      "source": [
        "df.shape"
      ],
      "execution_count": null,
      "outputs": [
        {
          "output_type": "execute_result",
          "data": {
            "text/plain": [
              "(1258, 14)"
            ]
          },
          "metadata": {},
          "execution_count": 6
        }
      ]
    },
    {
      "cell_type": "code",
      "metadata": {
        "colab": {
          "base_uri": "https://localhost:8080/"
        },
        "id": "KDimvAGNLFxh",
        "outputId": "90c12d33-490a-4126-fa95-a4d44f176534"
      },
      "source": [
        "#displaying the names of columns\n",
        "df.columns"
      ],
      "execution_count": null,
      "outputs": [
        {
          "output_type": "execute_result",
          "data": {
            "text/plain": [
              "Index(['symbol', 'date', 'close', 'high', 'low', 'open', 'volume', 'adjClose',\n",
              "       'adjHigh', 'adjLow', 'adjOpen', 'adjVolume', 'divCash', 'splitFactor'],\n",
              "      dtype='object')"
            ]
          },
          "metadata": {},
          "execution_count": 7
        }
      ]
    },
    {
      "cell_type": "code",
      "metadata": {
        "colab": {
          "base_uri": "https://localhost:8080/"
        },
        "id": "Y9hHFeTlMRPC",
        "outputId": "0c095602-daaa-428b-9ac3-3adce20b6d1d"
      },
      "source": [
        "#displaying if there are any blanks or na values\n",
        "df.isna().any()"
      ],
      "execution_count": null,
      "outputs": [
        {
          "output_type": "execute_result",
          "data": {
            "text/plain": [
              "symbol         False\n",
              "date           False\n",
              "close          False\n",
              "high           False\n",
              "low            False\n",
              "open           False\n",
              "volume         False\n",
              "adjClose       False\n",
              "adjHigh        False\n",
              "adjLow         False\n",
              "adjOpen        False\n",
              "adjVolume      False\n",
              "divCash        False\n",
              "splitFactor    False\n",
              "dtype: bool"
            ]
          },
          "metadata": {},
          "execution_count": 8
        }
      ]
    },
    {
      "cell_type": "code",
      "metadata": {
        "colab": {
          "base_uri": "https://localhost:8080/"
        },
        "id": "060Lv8vBfaVK",
        "outputId": "78e67c84-67fc-4488-83e2-8caa7d2fe8c3"
      },
      "source": [
        "#displaying basic information of the dataset\n",
        "df.info()"
      ],
      "execution_count": null,
      "outputs": [
        {
          "output_type": "stream",
          "name": "stdout",
          "text": [
            "<class 'pandas.core.frame.DataFrame'>\n",
            "RangeIndex: 1258 entries, 0 to 1257\n",
            "Data columns (total 14 columns):\n",
            " #   Column       Non-Null Count  Dtype  \n",
            "---  ------       --------------  -----  \n",
            " 0   symbol       1258 non-null   object \n",
            " 1   date         1258 non-null   object \n",
            " 2   close        1258 non-null   float64\n",
            " 3   high         1258 non-null   float64\n",
            " 4   low          1258 non-null   float64\n",
            " 5   open         1258 non-null   float64\n",
            " 6   volume       1258 non-null   int64  \n",
            " 7   adjClose     1258 non-null   float64\n",
            " 8   adjHigh      1258 non-null   float64\n",
            " 9   adjLow       1258 non-null   float64\n",
            " 10  adjOpen      1258 non-null   float64\n",
            " 11  adjVolume    1258 non-null   int64  \n",
            " 12  divCash      1258 non-null   float64\n",
            " 13  splitFactor  1258 non-null   float64\n",
            "dtypes: float64(10), int64(2), object(2)\n",
            "memory usage: 137.7+ KB\n"
          ]
        }
      ]
    },
    {
      "cell_type": "code",
      "metadata": {
        "colab": {
          "base_uri": "https://localhost:8080/",
          "height": 282
        },
        "id": "EIWDAg5_fdIj",
        "outputId": "7377dc72-84ab-46f0-f045-12a87593f400"
      },
      "source": [
        "#plotting a graph\n",
        "df['open'].plot(figsize=(15,4))"
      ],
      "execution_count": null,
      "outputs": [
        {
          "output_type": "execute_result",
          "data": {
            "text/plain": [
              "<matplotlib.axes._subplots.AxesSubplot at 0x7f486bed21d0>"
            ]
          },
          "metadata": {},
          "execution_count": 10
        },
        {
          "output_type": "display_data",
          "data": {
            "image/png": "[encoded data removed]",
            "text/plain": [
              "<Figure size 1080x288 with 1 Axes>"
            ]
          },
          "metadata": {
            "needs_background": "light"
          }
        }
      ]
    },
    {
      "cell_type": "code",
      "metadata": {
        "colab": {
          "base_uri": "https://localhost:8080/",
          "height": 282
        },
        "id": "Rhg3-7qqhHe7",
        "outputId": "9d992818-b1ed-4c42-b558-a14ce72e587c"
      },
      "source": [
        "df['close'].plot(figsize=(15,4))"
      ],
      "execution_count": null,
      "outputs": [
        {
          "output_type": "execute_result",
          "data": {
            "text/plain": [
              "<matplotlib.axes._subplots.AxesSubplot at 0x7f486be9ee90>"
            ]
          },
          "metadata": {},
          "execution_count": 11
        },
        {
          "output_type": "display_data",
          "data": {
            "image/png": "[encoded data removed]",
            "text/plain": [
              "<Figure size 1080x288 with 1 Axes>"
            ]
          },
          "metadata": {
            "needs_background": "light"
          }
        }
      ]
    },
    {
      "cell_type": "code",
      "metadata": {
        "colab": {
          "base_uri": "https://localhost:8080/",
          "height": 511
        },
        "id": "C4z3RW31hPON",
        "outputId": "c9f868a5-6325-4bf8-a3f2-c67f6fc6b155"
      },
      "source": [
        "#7 day rolling mean\n",
        "df.rolling(7).mean().head(15)"
      ],
      "execution_count": null,
      "outputs": [
        {
          "output_type": "execute_result",
          "data": {
            "text/html": [
              "<div>\n",
              "<style scoped>\n",
              "    .dataframe tbody tr th:only-of-type {\n",
              "        vertical-align: middle;\n",
              "    }\n",
              "\n",
              "    .dataframe tbody tr th {\n",
              "        vertical-align: top;\n",
              "    }\n",
              "\n",
              "    .dataframe thead th {\n",
              "        text-align: right;\n",
              "    }\n",
              "</style>\n",
              "<table border=\"1\" class=\"dataframe\">\n",
              "  <thead>\n",
              "    <tr style=\"text-align: right;\">\n",
              "      <th></th>\n",
              "      <th>close</th>\n",
              "      <th>high</th>\n",
              "      <th>low</th>\n",
              "      <th>open</th>\n",
              "      <th>volume</th>\n",
              "      <th>adjClose</th>\n",
              "      <th>adjHigh</th>\n",
              "      <th>adjLow</th>\n",
              "      <th>adjOpen</th>\n",
              "      <th>adjVolume</th>\n",
              "      <th>divCash</th>\n",
              "      <th>splitFactor</th>\n",
              "    </tr>\n",
              "  </thead>\n",
              "  <tbody>\n",
              "    <tr>\n",
              "      <th>0</th>\n",
              "      <td>NaN</td>\n",
              "      <td>NaN</td>\n",
              "      <td>NaN</td>\n",
              "      <td>NaN</td>\n",
              "      <td>NaN</td>\n",
              "      <td>NaN</td>\n",
              "      <td>NaN</td>\n",
              "      <td>NaN</td>\n",
              "      <td>NaN</td>\n",
              "      <td>NaN</td>\n",
              "      <td>NaN</td>\n",
              "      <td>NaN</td>\n",
              "    </tr>\n",
              "    <tr>\n",
              "      <th>1</th>\n",
              "      <td>NaN</td>\n",
              "      <td>NaN</td>\n",
              "      <td>NaN</td>\n",
              "      <td>NaN</td>\n",
              "      <td>NaN</td>\n",
              "      <td>NaN</td>\n",
              "      <td>NaN</td>\n",
              "      <td>NaN</td>\n",
              "      <td>NaN</td>\n",
              "      <td>NaN</td>\n",
              "      <td>NaN</td>\n",
              "      <td>NaN</td>\n",
              "    </tr>\n",
              "    <tr>\n",
              "      <th>2</th>\n",
              "      <td>NaN</td>\n",
              "      <td>NaN</td>\n",
              "      <td>NaN</td>\n",
              "      <td>NaN</td>\n",
              "      <td>NaN</td>\n",
              "      <td>NaN</td>\n",
              "      <td>NaN</td>\n",
              "      <td>NaN</td>\n",
              "      <td>NaN</td>\n",
              "      <td>NaN</td>\n",
              "      <td>NaN</td>\n",
              "      <td>NaN</td>\n",
              "    </tr>\n",
              "    <tr>\n",
              "      <th>3</th>\n",
              "      <td>NaN</td>\n",
              "      <td>NaN</td>\n",
              "      <td>NaN</td>\n",
              "      <td>NaN</td>\n",
              "      <td>NaN</td>\n",
              "      <td>NaN</td>\n",
              "      <td>NaN</td>\n",
              "      <td>NaN</td>\n",
              "      <td>NaN</td>\n",
              "      <td>NaN</td>\n",
              "      <td>NaN</td>\n",
              "      <td>NaN</td>\n",
              "    </tr>\n",
              "    <tr>\n",
              "      <th>4</th>\n",
              "      <td>NaN</td>\n",
              "      <td>NaN</td>\n",
              "      <td>NaN</td>\n",
              "      <td>NaN</td>\n",
              "      <td>NaN</td>\n",
              "      <td>NaN</td>\n",
              "      <td>NaN</td>\n",
              "      <td>NaN</td>\n",
              "      <td>NaN</td>\n",
              "      <td>NaN</td>\n",
              "      <td>NaN</td>\n",
              "      <td>NaN</td>\n",
              "    </tr>\n",
              "    <tr>\n",
              "      <th>5</th>\n",
              "      <td>NaN</td>\n",
              "      <td>NaN</td>\n",
              "      <td>NaN</td>\n",
              "      <td>NaN</td>\n",
              "      <td>NaN</td>\n",
              "      <td>NaN</td>\n",
              "      <td>NaN</td>\n",
              "      <td>NaN</td>\n",
              "      <td>NaN</td>\n",
              "      <td>NaN</td>\n",
              "      <td>NaN</td>\n",
              "      <td>NaN</td>\n",
              "    </tr>\n",
              "    <tr>\n",
              "      <th>6</th>\n",
              "      <td>117.385714</td>\n",
              "      <td>117.742857</td>\n",
              "      <td>116.421429</td>\n",
              "      <td>117.354286</td>\n",
              "      <td>2.674273e+07</td>\n",
              "      <td>27.517299</td>\n",
              "      <td>27.601019</td>\n",
              "      <td>27.291253</td>\n",
              "      <td>27.509931</td>\n",
              "      <td>1.069709e+08</td>\n",
              "      <td>0.000000</td>\n",
              "      <td>1.0</td>\n",
              "    </tr>\n",
              "    <tr>\n",
              "      <th>7</th>\n",
              "      <td>117.105714</td>\n",
              "      <td>117.437143</td>\n",
              "      <td>115.925714</td>\n",
              "      <td>116.922857</td>\n",
              "      <td>3.281549e+07</td>\n",
              "      <td>27.451662</td>\n",
              "      <td>27.529354</td>\n",
              "      <td>27.175049</td>\n",
              "      <td>27.408797</td>\n",
              "      <td>1.312619e+08</td>\n",
              "      <td>0.000000</td>\n",
              "      <td>1.0</td>\n",
              "    </tr>\n",
              "    <tr>\n",
              "      <th>8</th>\n",
              "      <td>116.678571</td>\n",
              "      <td>117.101429</td>\n",
              "      <td>115.447143</td>\n",
              "      <td>116.524286</td>\n",
              "      <td>3.424528e+07</td>\n",
              "      <td>27.351532</td>\n",
              "      <td>27.450657</td>\n",
              "      <td>27.062863</td>\n",
              "      <td>27.315365</td>\n",
              "      <td>1.369811e+08</td>\n",
              "      <td>0.000000</td>\n",
              "      <td>1.0</td>\n",
              "    </tr>\n",
              "    <tr>\n",
              "      <th>9</th>\n",
              "      <td>116.192857</td>\n",
              "      <td>116.737143</td>\n",
              "      <td>115.397143</td>\n",
              "      <td>116.041429</td>\n",
              "      <td>3.679200e+07</td>\n",
              "      <td>27.237672</td>\n",
              "      <td>27.365262</td>\n",
              "      <td>27.051142</td>\n",
              "      <td>27.202174</td>\n",
              "      <td>1.471680e+08</td>\n",
              "      <td>0.000000</td>\n",
              "      <td>1.0</td>\n",
              "    </tr>\n",
              "    <tr>\n",
              "      <th>10</th>\n",
              "      <td>115.690000</td>\n",
              "      <td>116.287143</td>\n",
              "      <td>114.950000</td>\n",
              "      <td>115.582857</td>\n",
              "      <td>3.711966e+07</td>\n",
              "      <td>27.119793</td>\n",
              "      <td>27.259774</td>\n",
              "      <td>26.946324</td>\n",
              "      <td>27.094677</td>\n",
              "      <td>1.484786e+08</td>\n",
              "      <td>0.000000</td>\n",
              "      <td>1.0</td>\n",
              "    </tr>\n",
              "    <tr>\n",
              "      <th>11</th>\n",
              "      <td>114.960000</td>\n",
              "      <td>115.838571</td>\n",
              "      <td>114.128571</td>\n",
              "      <td>115.104286</td>\n",
              "      <td>4.006725e+07</td>\n",
              "      <td>26.948668</td>\n",
              "      <td>27.154621</td>\n",
              "      <td>26.753767</td>\n",
              "      <td>26.982491</td>\n",
              "      <td>1.602690e+08</td>\n",
              "      <td>0.000000</td>\n",
              "      <td>1.0</td>\n",
              "    </tr>\n",
              "    <tr>\n",
              "      <th>12</th>\n",
              "      <td>114.094286</td>\n",
              "      <td>115.068571</td>\n",
              "      <td>113.304286</td>\n",
              "      <td>114.290000</td>\n",
              "      <td>4.075197e+07</td>\n",
              "      <td>26.745729</td>\n",
              "      <td>26.974119</td>\n",
              "      <td>26.560539</td>\n",
              "      <td>26.791608</td>\n",
              "      <td>1.630079e+08</td>\n",
              "      <td>0.000000</td>\n",
              "      <td>1.0</td>\n",
              "    </tr>\n",
              "    <tr>\n",
              "      <th>13</th>\n",
              "      <td>112.891429</td>\n",
              "      <td>114.082857</td>\n",
              "      <td>112.195714</td>\n",
              "      <td>113.294286</td>\n",
              "      <td>3.772392e+07</td>\n",
              "      <td>26.482847</td>\n",
              "      <td>26.762422</td>\n",
              "      <td>26.319710</td>\n",
              "      <td>26.577483</td>\n",
              "      <td>1.508957e+08</td>\n",
              "      <td>0.081429</td>\n",
              "      <td>1.0</td>\n",
              "    </tr>\n",
              "    <tr>\n",
              "      <th>14</th>\n",
              "      <td>111.927143</td>\n",
              "      <td>113.304286</td>\n",
              "      <td>111.452857</td>\n",
              "      <td>112.468571</td>\n",
              "      <td>3.268146e+07</td>\n",
              "      <td>26.275717</td>\n",
              "      <td>26.599072</td>\n",
              "      <td>26.164361</td>\n",
              "      <td>26.402784</td>\n",
              "      <td>1.307258e+08</td>\n",
              "      <td>0.081429</td>\n",
              "      <td>1.0</td>\n",
              "    </tr>\n",
              "  </tbody>\n",
              "</table>\n",
              "</div>"
            ],
            "text/plain": [
              "         close        high         low  ...     adjVolume   divCash  splitFactor\n",
              "0          NaN         NaN         NaN  ...           NaN       NaN          NaN\n",
              "1          NaN         NaN         NaN  ...           NaN       NaN          NaN\n",
              "2          NaN         NaN         NaN  ...           NaN       NaN          NaN\n",
              "3          NaN         NaN         NaN  ...           NaN       NaN          NaN\n",
              "4          NaN         NaN         NaN  ...           NaN       NaN          NaN\n",
              "5          NaN         NaN         NaN  ...           NaN       NaN          NaN\n",
              "6   117.385714  117.742857  116.421429  ...  1.069709e+08  0.000000          1.0\n",
              "7   117.105714  117.437143  115.925714  ...  1.312619e+08  0.000000          1.0\n",
              "8   116.678571  117.101429  115.447143  ...  1.369811e+08  0.000000          1.0\n",
              "9   116.192857  116.737143  115.397143  ...  1.471680e+08  0.000000          1.0\n",
              "10  115.690000  116.287143  114.950000  ...  1.484786e+08  0.000000          1.0\n",
              "11  114.960000  115.838571  114.128571  ...  1.602690e+08  0.000000          1.0\n",
              "12  114.094286  115.068571  113.304286  ...  1.630079e+08  0.000000          1.0\n",
              "13  112.891429  114.082857  112.195714  ...  1.508957e+08  0.081429          1.0\n",
              "14  111.927143  113.304286  111.452857  ...  1.307258e+08  0.081429          1.0\n",
              "\n",
              "[15 rows x 12 columns]"
            ]
          },
          "metadata": {},
          "execution_count": 12
        }
      ]
    },
    {
      "cell_type": "code",
      "metadata": {
        "colab": {
          "base_uri": "https://localhost:8080/",
          "height": 282
        },
        "id": "k-5rIg9VZF1M",
        "outputId": "155086c2-a4ad-41ec-d6ea-415063ece6de"
      },
      "source": [
        "df['open'].plot(figsize=(15,4))\n",
        "df.rolling(window=30).mean()['close'].plot()"
      ],
      "execution_count": null,
      "outputs": [
        {
          "output_type": "execute_result",
          "data": {
            "text/plain": [
              "<matplotlib.axes._subplots.AxesSubplot at 0x7f486b7a0a90>"
            ]
          },
          "metadata": {},
          "execution_count": 13
        },
        {
          "output_type": "display_data",
          "data": {
            "image/png": "[encoded data removed]",
            "text/plain": [
              "<Figure size 1080x288 with 1 Axes>"
            ]
          },
          "metadata": {
            "needs_background": "light"
          }
        }
      ]
    },
    {
      "cell_type": "code",
      "metadata": {
        "colab": {
          "base_uri": "https://localhost:8080/"
        },
        "id": "wfD5lL0Kn-bN",
        "outputId": "083ecccc-8102-482c-9132-fcafb1f38dcb"
      },
      "source": [
        "df1 = df.reset_index()['close']\n",
        "df1[1250:]"
      ],
      "execution_count": null,
      "outputs": [
        {
          "output_type": "execute_result",
          "data": {
            "text/plain": [
              "1250    141.11\n",
              "1251    142.00\n",
              "1252    143.29\n",
              "1253    142.90\n",
              "1254    142.81\n",
              "1255    141.51\n",
              "1256    140.91\n",
              "1257    143.76\n",
              "Name: close, dtype: float64"
            ]
          },
          "metadata": {},
          "execution_count": 14
        }
      ]
    },
    {
      "cell_type": "code",
      "metadata": {
        "id": "lqFBEeqhlFdt"
      },
      "source": [
        "#transforming features to set range - Feature scaling\n",
        "from sklearn.preprocessing import MinMaxScaler\n",
        "sc = MinMaxScaler(feature_range = (0,1))\n",
        "df1 = sc.fit_transform(np.array(df1).reshape(-1,1))"
      ],
      "execution_count": null,
      "outputs": []
    },
    {
      "cell_type": "code",
      "metadata": {
        "colab": {
          "base_uri": "https://localhost:8080/"
        },
        "id": "gaImAp8ldWSa",
        "outputId": "aad006a1-ee5d-494e-a9e5-c64353d59ffd"
      },
      "source": [
        "df1"
      ],
      "execution_count": null,
      "outputs": [
        {
          "output_type": "execute_result",
          "data": {
            "text/plain": [
              "array([[0.02957191],\n",
              "       [0.0293721 ],\n",
              "       [0.02849793],\n",
              "       ...,\n",
              "       [0.08941506],\n",
              "       [0.08791648],\n",
              "       [0.09503472]])"
            ]
          },
          "metadata": {},
          "execution_count": 16
        }
      ]
    },
    {
      "cell_type": "code",
      "metadata": {
        "colab": {
          "base_uri": "https://localhost:8080/"
        },
        "id": "bfUVhuSDdO8b",
        "outputId": "c37cd705-35ff-4a9b-89f6-440b01d94b3f"
      },
      "source": [
        "df1.shape"
      ],
      "execution_count": null,
      "outputs": [
        {
          "output_type": "execute_result",
          "data": {
            "text/plain": [
              "(1258, 1)"
            ]
          },
          "metadata": {},
          "execution_count": 17
        }
      ]
    },
    {
      "cell_type": "code",
      "metadata": {
        "id": "Hrp_g3aLpOYA"
      },
      "source": [
        "#splitting dataset into train and test\n",
        "training_size = int(len(df1)*0.65)\n",
        "test_size = len(df1)-training_size\n",
        "train_data, test_data = df1[0:training_size, :], df1[training_size:len(df1), :1]"
      ],
      "execution_count": null,
      "outputs": []
    },
    {
      "cell_type": "code",
      "metadata": {
        "colab": {
          "base_uri": "https://localhost:8080/"
        },
        "id": "qsyLWeRtpp4G",
        "outputId": "b092fbce-4c04-44ec-bd8f-d2d77b4ae1b6"
      },
      "source": [
        "training_size, test_size"
      ],
      "execution_count": null,
      "outputs": [
        {
          "output_type": "execute_result",
          "data": {
            "text/plain": [
              "(817, 441)"
            ]
          },
          "metadata": {},
          "execution_count": 19
        }
      ]
    },
    {
      "cell_type": "code",
      "metadata": {
        "id": "vbosxSoMptzj"
      },
      "source": [
        "import numpy\n",
        "#converting array of values into dataset matrix\n",
        "def create_dataset(dataset, time_step = 1):\n",
        "  dataX, dataY = [], []\n",
        "  for i in range(len(dataset)-time_step-1):\n",
        "    a = dataset[i:(i+time_step), 0]\n",
        "    dataX.append(a)\n",
        "    dataY.append(dataset[i + time_step, 0])\n",
        "  return numpy.array(dataX), numpy.array(dataY)"
      ],
      "execution_count": null,
      "outputs": []
    },
    {
      "cell_type": "code",
      "metadata": {
        "id": "Qx2xxwIcs3TC"
      },
      "source": [
        "#reshaping the data into X = t, t+1, t+2, t+3 and Y = t+4\n",
        "time_step = 100\n",
        "X_train, y_train = create_dataset(train_data, time_step)\n",
        "X_test, ytest = create_dataset(test_data, time_step)"
      ],
      "execution_count": null,
      "outputs": []
    },
    {
      "cell_type": "code",
      "metadata": {
        "colab": {
          "base_uri": "https://localhost:8080/"
        },
        "id": "OvnZvg8MgLpC",
        "outputId": "b0a4dba4-2f57-46b7-d5c1-20bc8f03372c"
      },
      "source": [
        "print(X_train.shape), print(y_train.shape)"
      ],
      "execution_count": null,
      "outputs": [
        {
          "output_type": "stream",
          "name": "stdout",
          "text": [
            "(716, 100)\n",
            "(716,)\n"
          ]
        },
        {
          "output_type": "execute_result",
          "data": {
            "text/plain": [
              "(None, None)"
            ]
          },
          "metadata": {},
          "execution_count": 22
        }
      ]
    },
    {
      "cell_type": "code",
      "metadata": {
        "colab": {
          "base_uri": "https://localhost:8080/"
        },
        "id": "ixyHyf6jga8p",
        "outputId": "8d9661d0-3b83-4d3c-8a20-18c8d902822c"
      },
      "source": [
        "print(X_test.shape), print(ytest.shape)"
      ],
      "execution_count": null,
      "outputs": [
        {
          "output_type": "stream",
          "name": "stdout",
          "text": [
            "(340, 100)\n",
            "(340,)\n"
          ]
        },
        {
          "output_type": "execute_result",
          "data": {
            "text/plain": [
              "(None, None)"
            ]
          },
          "metadata": {},
          "execution_count": 23
        }
      ]
    },
    {
      "cell_type": "code",
      "metadata": {
        "id": "UNZ2sKLzyhIO"
      },
      "source": [
        "#reshaping the input which is required for LSTM\n",
        "X_train = X_train.reshape(X_train.shape[0], X_train.shape[1], 1)\n",
        "X_test = X_test.reshape(X_test.shape[0], X_test.shape[1], 1)"
      ],
      "execution_count": null,
      "outputs": []
    },
    {
      "cell_type": "code",
      "metadata": {
        "id": "eynohVQ6y-HL"
      },
      "source": [
        "#creating the LSTM model\n",
        "from tensorflow.keras.models import Sequential\n",
        "from tensorflow.keras.layers import Dense\n",
        "from tensorflow.keras.layers import LSTM"
      ],
      "execution_count": null,
      "outputs": []
    },
    {
      "cell_type": "code",
      "metadata": {
        "id": "0ibD43XkhAZe"
      },
      "source": [
        "model = Sequential()\n",
        "model.add(LSTM(50, return_sequences=True, input_shape=(100,1)))\n",
        "model.add(LSTM(50, return_sequences=True))\n",
        "model.add(LSTM(50))\n",
        "model.add(Dense(1))\n",
        "model.compile(loss='mean_squared_error', optimizer='adam')"
      ],
      "execution_count": null,
      "outputs": []
    },
    {
      "cell_type": "code",
      "metadata": {
        "colab": {
          "base_uri": "https://localhost:8080/"
        },
        "id": "ZmH5PvSmhm32",
        "outputId": "0e09ebdd-1dfc-40e8-908c-5f7ed4bd64a6"
      },
      "source": [
        "model.summary()"
      ],
      "execution_count": null,
      "outputs": [
        {
          "output_type": "stream",
          "name": "stdout",
          "text": [
            "Model: \"sequential\"\n",
            "_________________________________________________________________\n",
            "Layer (type)                 Output Shape              Param #   \n",
            "=================================================================\n",
            "lstm (LSTM)                  (None, 100, 50)           10400     \n",
            "_________________________________________________________________\n",
            "lstm_1 (LSTM)                (None, 100, 50)           20200     \n",
            "_________________________________________________________________\n",
            "lstm_2 (LSTM)                (None, 50)                20200     \n",
            "_________________________________________________________________\n",
            "dense (Dense)                (None, 1)                 51        \n",
            "=================================================================\n",
            "Total params: 50,851\n",
            "Trainable params: 50,851\n",
            "Non-trainable params: 0\n",
            "_________________________________________________________________\n"
          ]
        }
      ]
    },
    {
      "cell_type": "code",
      "metadata": {
        "colab": {
          "base_uri": "https://localhost:8080/"
        },
        "id": "XVWSYWm1homT",
        "outputId": "425725d9-3cc3-4a6c-df68-f94c1f1f8c5a"
      },
      "source": [
        "model.fit(X_train, y_train, validation_data=(X_test, ytest), epochs=100, batch_size=64, verbose=1)"
      ],
      "execution_count": null,
      "outputs": [
        {
          "output_type": "stream",
          "name": "stdout",
          "text": [
            "Epoch 1/100\n",
            "12/12 [==============================] - 8s 308ms/step - loss: 0.0130 - val_loss: 0.0298\n",
            "Epoch 2/100\n",
            "12/12 [==============================] - 2s 193ms/step - loss: 0.0027 - val_loss: 0.0236\n",
            "Epoch 3/100\n",
            "12/12 [==============================] - 2s 191ms/step - loss: 0.0012 - val_loss: 0.0217\n",
            "Epoch 4/100\n",
            "12/12 [==============================] - 2s 195ms/step - loss: 6.8063e-04 - val_loss: 0.0244\n",
            "Epoch 5/100\n",
            "12/12 [==============================] - 2s 194ms/step - loss: 5.4283e-04 - val_loss: 0.0254\n",
            "Epoch 6/100\n",
            "12/12 [==============================] - 2s 194ms/step - loss: 4.9508e-04 - val_loss: 0.0223\n",
            "Epoch 7/100\n",
            "12/12 [==============================] - 2s 192ms/step - loss: 5.0238e-04 - val_loss: 0.0219\n",
            "Epoch 8/100\n",
            "12/12 [==============================] - 2s 195ms/step - loss: 4.7450e-04 - val_loss: 0.0242\n",
            "Epoch 9/100\n",
            "12/12 [==============================] - 2s 192ms/step - loss: 4.4834e-04 - val_loss: 0.0257\n",
            "Epoch 10/100\n",
            "12/12 [==============================] - 2s 191ms/step - loss: 4.3786e-04 - val_loss: 0.0234\n",
            "Epoch 11/100\n",
            "12/12 [==============================] - 2s 195ms/step - loss: 4.0778e-04 - val_loss: 0.0226\n",
            "Epoch 12/100\n",
            "12/12 [==============================] - 2s 194ms/step - loss: 3.8654e-04 - val_loss: 0.0232\n",
            "Epoch 13/100\n",
            "12/12 [==============================] - 2s 192ms/step - loss: 3.7480e-04 - val_loss: 0.0254\n",
            "Epoch 14/100\n",
            "12/12 [==============================] - 2s 191ms/step - loss: 3.7549e-04 - val_loss: 0.0223\n",
            "Epoch 15/100\n",
            "12/12 [==============================] - 2s 193ms/step - loss: 3.8010e-04 - val_loss: 0.0260\n",
            "Epoch 16/100\n",
            "12/12 [==============================] - 2s 194ms/step - loss: 4.9349e-04 - val_loss: 0.0218\n",
            "Epoch 17/100\n",
            "12/12 [==============================] - 2s 195ms/step - loss: 4.2211e-04 - val_loss: 0.0216\n",
            "Epoch 18/100\n",
            "12/12 [==============================] - 2s 195ms/step - loss: 3.3662e-04 - val_loss: 0.0240\n",
            "Epoch 19/100\n",
            "12/12 [==============================] - 2s 193ms/step - loss: 3.4233e-04 - val_loss: 0.0201\n",
            "Epoch 20/100\n",
            "12/12 [==============================] - 2s 194ms/step - loss: 3.3494e-04 - val_loss: 0.0269\n",
            "Epoch 21/100\n",
            "12/12 [==============================] - 2s 192ms/step - loss: 3.2195e-04 - val_loss: 0.0201\n",
            "Epoch 22/100\n",
            "12/12 [==============================] - 2s 192ms/step - loss: 3.2239e-04 - val_loss: 0.0223\n",
            "Epoch 23/100\n",
            "12/12 [==============================] - 2s 192ms/step - loss: 2.7668e-04 - val_loss: 0.0257\n",
            "Epoch 24/100\n",
            "12/12 [==============================] - 2s 191ms/step - loss: 2.7789e-04 - val_loss: 0.0221\n",
            "Epoch 25/100\n",
            "12/12 [==============================] - 2s 194ms/step - loss: 2.8311e-04 - val_loss: 0.0240\n",
            "Epoch 26/100\n",
            "12/12 [==============================] - 2s 192ms/step - loss: 2.6258e-04 - val_loss: 0.0242\n",
            "Epoch 27/100\n",
            "12/12 [==============================] - 2s 192ms/step - loss: 2.5681e-04 - val_loss: 0.0258\n",
            "Epoch 28/100\n",
            "12/12 [==============================] - 2s 193ms/step - loss: 2.7084e-04 - val_loss: 0.0232\n",
            "Epoch 29/100\n",
            "12/12 [==============================] - 2s 198ms/step - loss: 2.5562e-04 - val_loss: 0.0256\n",
            "Epoch 30/100\n",
            "12/12 [==============================] - 2s 194ms/step - loss: 2.5877e-04 - val_loss: 0.0208\n",
            "Epoch 31/100\n",
            "12/12 [==============================] - 2s 194ms/step - loss: 2.4254e-04 - val_loss: 0.0203\n",
            "Epoch 32/100\n",
            "12/12 [==============================] - 2s 190ms/step - loss: 2.6040e-04 - val_loss: 0.0223\n",
            "Epoch 33/100\n",
            "12/12 [==============================] - 2s 193ms/step - loss: 2.5864e-04 - val_loss: 0.0235\n",
            "Epoch 34/100\n",
            "12/12 [==============================] - 2s 196ms/step - loss: 2.5938e-04 - val_loss: 0.0211\n",
            "Epoch 35/100\n",
            "12/12 [==============================] - 2s 192ms/step - loss: 2.7084e-04 - val_loss: 0.0203\n",
            "Epoch 36/100\n",
            "12/12 [==============================] - 2s 191ms/step - loss: 2.3033e-04 - val_loss: 0.0197\n",
            "Epoch 37/100\n",
            "12/12 [==============================] - 2s 193ms/step - loss: 2.3403e-04 - val_loss: 0.0211\n",
            "Epoch 38/100\n",
            "12/12 [==============================] - 2s 196ms/step - loss: 2.5191e-04 - val_loss: 0.0191\n",
            "Epoch 39/100\n",
            "12/12 [==============================] - 2s 193ms/step - loss: 2.2512e-04 - val_loss: 0.0161\n",
            "Epoch 40/100\n",
            "12/12 [==============================] - 2s 194ms/step - loss: 2.7201e-04 - val_loss: 0.0195\n",
            "Epoch 41/100\n",
            "12/12 [==============================] - 2s 194ms/step - loss: 2.3932e-04 - val_loss: 0.0184\n",
            "Epoch 42/100\n",
            "12/12 [==============================] - 2s 195ms/step - loss: 2.2103e-04 - val_loss: 0.0169\n",
            "Epoch 43/100\n",
            "12/12 [==============================] - 2s 194ms/step - loss: 2.2157e-04 - val_loss: 0.0174\n",
            "Epoch 44/100\n",
            "12/12 [==============================] - 2s 194ms/step - loss: 2.1418e-04 - val_loss: 0.0145\n",
            "Epoch 45/100\n",
            "12/12 [==============================] - 2s 194ms/step - loss: 2.1031e-04 - val_loss: 0.0160\n",
            "Epoch 46/100\n",
            "12/12 [==============================] - 2s 193ms/step - loss: 2.1737e-04 - val_loss: 0.0154\n",
            "Epoch 47/100\n",
            "12/12 [==============================] - 2s 190ms/step - loss: 2.0280e-04 - val_loss: 0.0172\n",
            "Epoch 48/100\n",
            "12/12 [==============================] - 2s 193ms/step - loss: 2.0830e-04 - val_loss: 0.0159\n",
            "Epoch 49/100\n",
            "12/12 [==============================] - 2s 192ms/step - loss: 2.0093e-04 - val_loss: 0.0144\n",
            "Epoch 50/100\n",
            "12/12 [==============================] - 2s 193ms/step - loss: 2.0670e-04 - val_loss: 0.0144\n",
            "Epoch 51/100\n",
            "12/12 [==============================] - 2s 193ms/step - loss: 1.9606e-04 - val_loss: 0.0164\n",
            "Epoch 52/100\n",
            "12/12 [==============================] - 2s 194ms/step - loss: 1.9665e-04 - val_loss: 0.0137\n",
            "Epoch 53/100\n",
            "12/12 [==============================] - 2s 193ms/step - loss: 1.9996e-04 - val_loss: 0.0129\n",
            "Epoch 54/100\n",
            "12/12 [==============================] - 2s 197ms/step - loss: 2.0936e-04 - val_loss: 0.0131\n",
            "Epoch 55/100\n",
            "12/12 [==============================] - 2s 194ms/step - loss: 2.0898e-04 - val_loss: 0.0154\n",
            "Epoch 56/100\n",
            "12/12 [==============================] - 2s 193ms/step - loss: 2.0326e-04 - val_loss: 0.0129\n",
            "Epoch 57/100\n",
            "12/12 [==============================] - 2s 198ms/step - loss: 1.8819e-04 - val_loss: 0.0146\n",
            "Epoch 58/100\n",
            "12/12 [==============================] - 2s 196ms/step - loss: 2.0265e-04 - val_loss: 0.0157\n",
            "Epoch 59/100\n",
            "12/12 [==============================] - 2s 192ms/step - loss: 1.9305e-04 - val_loss: 0.0157\n",
            "Epoch 60/100\n",
            "12/12 [==============================] - 2s 194ms/step - loss: 2.6921e-04 - val_loss: 0.0102\n",
            "Epoch 61/100\n",
            "12/12 [==============================] - 2s 194ms/step - loss: 2.4053e-04 - val_loss: 0.0142\n",
            "Epoch 62/100\n",
            "12/12 [==============================] - 2s 191ms/step - loss: 1.8840e-04 - val_loss: 0.0132\n",
            "Epoch 63/100\n",
            "12/12 [==============================] - 2s 194ms/step - loss: 1.8862e-04 - val_loss: 0.0112\n",
            "Epoch 64/100\n",
            "12/12 [==============================] - 2s 194ms/step - loss: 1.8997e-04 - val_loss: 0.0131\n",
            "Epoch 65/100\n",
            "12/12 [==============================] - 2s 195ms/step - loss: 1.8149e-04 - val_loss: 0.0124\n",
            "Epoch 66/100\n",
            "12/12 [==============================] - 2s 194ms/step - loss: 1.7137e-04 - val_loss: 0.0121\n",
            "Epoch 67/100\n",
            "12/12 [==============================] - 2s 195ms/step - loss: 1.9979e-04 - val_loss: 0.0121\n",
            "Epoch 68/100\n",
            "12/12 [==============================] - 2s 192ms/step - loss: 1.7598e-04 - val_loss: 0.0120\n",
            "Epoch 69/100\n",
            "12/12 [==============================] - 2s 192ms/step - loss: 1.7706e-04 - val_loss: 0.0120\n",
            "Epoch 70/100\n",
            "12/12 [==============================] - 2s 198ms/step - loss: 1.6427e-04 - val_loss: 0.0129\n",
            "Epoch 71/100\n",
            "12/12 [==============================] - 2s 192ms/step - loss: 1.6749e-04 - val_loss: 0.0128\n",
            "Epoch 72/100\n",
            "12/12 [==============================] - 2s 193ms/step - loss: 1.7662e-04 - val_loss: 0.0097\n",
            "Epoch 73/100\n",
            "12/12 [==============================] - 2s 194ms/step - loss: 1.9501e-04 - val_loss: 0.0105\n",
            "Epoch 74/100\n",
            "12/12 [==============================] - 2s 193ms/step - loss: 1.8504e-04 - val_loss: 0.0127\n",
            "Epoch 75/100\n",
            "12/12 [==============================] - 2s 193ms/step - loss: 1.7058e-04 - val_loss: 0.0095\n",
            "Epoch 76/100\n",
            "12/12 [==============================] - 2s 193ms/step - loss: 1.6541e-04 - val_loss: 0.0111\n",
            "Epoch 77/100\n",
            "12/12 [==============================] - 2s 194ms/step - loss: 1.5317e-04 - val_loss: 0.0118\n",
            "Epoch 78/100\n",
            "12/12 [==============================] - 2s 194ms/step - loss: 1.6695e-04 - val_loss: 0.0104\n",
            "Epoch 79/100\n",
            "12/12 [==============================] - 2s 195ms/step - loss: 1.6691e-04 - val_loss: 0.0109\n",
            "Epoch 80/100\n",
            "12/12 [==============================] - 2s 193ms/step - loss: 1.4483e-04 - val_loss: 0.0105\n",
            "Epoch 81/100\n",
            "12/12 [==============================] - 2s 192ms/step - loss: 1.4632e-04 - val_loss: 0.0122\n",
            "Epoch 82/100\n",
            "12/12 [==============================] - 2s 190ms/step - loss: 1.5222e-04 - val_loss: 0.0104\n",
            "Epoch 83/100\n",
            "12/12 [==============================] - 2s 193ms/step - loss: 1.4412e-04 - val_loss: 0.0105\n",
            "Epoch 84/100\n",
            "12/12 [==============================] - 2s 193ms/step - loss: 1.4447e-04 - val_loss: 0.0097\n",
            "Epoch 85/100\n",
            "12/12 [==============================] - 2s 190ms/step - loss: 1.4421e-04 - val_loss: 0.0087\n",
            "Epoch 86/100\n",
            "12/12 [==============================] - 2s 194ms/step - loss: 1.4679e-04 - val_loss: 0.0093\n",
            "Epoch 87/100\n",
            "12/12 [==============================] - 2s 195ms/step - loss: 1.5566e-04 - val_loss: 0.0096\n",
            "Epoch 88/100\n",
            "12/12 [==============================] - 2s 192ms/step - loss: 1.3334e-04 - val_loss: 0.0094\n",
            "Epoch 89/100\n",
            "12/12 [==============================] - 2s 195ms/step - loss: 1.3315e-04 - val_loss: 0.0097\n",
            "Epoch 90/100\n",
            "12/12 [==============================] - 2s 194ms/step - loss: 1.4457e-04 - val_loss: 0.0099\n",
            "Epoch 91/100\n",
            "12/12 [==============================] - 2s 194ms/step - loss: 1.3149e-04 - val_loss: 0.0096\n",
            "Epoch 92/100\n",
            "12/12 [==============================] - 2s 192ms/step - loss: 1.3360e-04 - val_loss: 0.0093\n",
            "Epoch 93/100\n",
            "12/12 [==============================] - 2s 192ms/step - loss: 1.2840e-04 - val_loss: 0.0083\n",
            "Epoch 94/100\n",
            "12/12 [==============================] - 2s 192ms/step - loss: 1.2404e-04 - val_loss: 0.0089\n",
            "Epoch 95/100\n",
            "12/12 [==============================] - 2s 191ms/step - loss: 1.2667e-04 - val_loss: 0.0088\n",
            "Epoch 96/100\n",
            "12/12 [==============================] - 2s 191ms/step - loss: 1.2328e-04 - val_loss: 0.0093\n",
            "Epoch 97/100\n",
            "12/12 [==============================] - 2s 190ms/step - loss: 1.2160e-04 - val_loss: 0.0088\n",
            "Epoch 98/100\n",
            "12/12 [==============================] - 2s 193ms/step - loss: 1.1807e-04 - val_loss: 0.0090\n",
            "Epoch 99/100\n",
            "12/12 [==============================] - 2s 190ms/step - loss: 1.1847e-04 - val_loss: 0.0085\n",
            "Epoch 100/100\n",
            "12/12 [==============================] - 2s 197ms/step - loss: 1.2960e-04 - val_loss: 0.0076\n"
          ]
        },
        {
          "output_type": "execute_result",
          "data": {
            "text/plain": [
              "<keras.callbacks.History at 0x7f4865e58790>"
            ]
          },
          "metadata": {},
          "execution_count": 28
        }
      ]
    },
    {
      "cell_type": "code",
      "metadata": {
        "id": "2qdbFI_OjM6q"
      },
      "source": [
        "#prediction and checking performance metrics\n",
        "train_predict=model.predict(X_train)\n",
        "test_predict=model.predict(X_test)"
      ],
      "execution_count": null,
      "outputs": []
    },
    {
      "cell_type": "code",
      "metadata": {
        "id": "jzUOTCDJjfND"
      },
      "source": [
        "train_predict=sc.inverse_transform(train_predict)\n",
        "test_predict=sc.inverse_transform(test_predict)"
      ],
      "execution_count": null,
      "outputs": []
    },
    {
      "cell_type": "code",
      "metadata": {
        "colab": {
          "base_uri": "https://localhost:8080/"
        },
        "id": "0Gx1RRFQkmYb",
        "outputId": "85f534d9-ef47-439a-c44b-43f381378195"
      },
      "source": [
        "import math\n",
        "from sklearn.metrics import mean_squared_error\n",
        "math.sqrt(mean_squared_error(y_train, train_predict))"
      ],
      "execution_count": null,
      "outputs": [
        {
          "output_type": "execute_result",
          "data": {
            "text/plain": [
              "188.46669497953982"
            ]
          },
          "metadata": {},
          "execution_count": 31
        }
      ]
    },
    {
      "cell_type": "code",
      "metadata": {
        "colab": {
          "base_uri": "https://localhost:8080/"
        },
        "id": "73D-bZ_UmJQ7",
        "outputId": "c13651e4-de88-46ab-cf5d-5246d2490447"
      },
      "source": [
        "math.sqrt(mean_squared_error(ytest, test_predict))"
      ],
      "execution_count": null,
      "outputs": [
        {
          "output_type": "execute_result",
          "data": {
            "text/plain": [
              "215.58030168531397"
            ]
          },
          "metadata": {},
          "execution_count": 32
        }
      ]
    },
    {
      "cell_type": "code",
      "metadata": {
        "id": "y-wOssLEmdhr"
      },
      "source": [
        "look_back = 100\n",
        "trainPredictPlot = numpy.empty_like(df1)\n",
        "trainPredictPlot[:, :] = np.nan\n",
        "trainPredictPlot[look_back:len(train_predict) + look_back, :] = train_predict"
      ],
      "execution_count": null,
      "outputs": []
    },
    {
      "cell_type": "code",
      "metadata": {
        "id": "XMTOtHbLm_Lo"
      },
      "source": [
        "testPredictPlot = numpy.empty_like(df1)\n",
        "testPredictPlot[:, :] = numpy.nan\n",
        "testPredictPlot[len(train_predict) + (look_back*2) + 1:len(df1)-1, :] = test_predict"
      ],
      "execution_count": null,
      "outputs": []
    },
    {
      "cell_type": "code",
      "metadata": {
        "colab": {
          "base_uri": "https://localhost:8080/",
          "height": 267
        },
        "id": "mVRTWQ5dnz17",
        "outputId": "9a2a7f2b-df65-43ef-ed9a-58089baaafe6"
      },
      "source": [
        "plt.plot(sc.inverse_transform(df1))\n",
        "plt.plot(trainPredictPlot)\n",
        "plt.plot(testPredictPlot)\n",
        "plt.show()"
      ],
      "execution_count": null,
      "outputs": [
        {
          "output_type": "display_data",
          "data": {
            "image/png": "[encoded data removed]",
            "text/plain": [
              "<Figure size 432x288 with 1 Axes>"
            ]
          },
          "metadata": {
            "needs_background": "light"
          }
        }
      ]
    },
    {
      "cell_type": "code",
      "metadata": {
        "colab": {
          "base_uri": "https://localhost:8080/"
        },
        "id": "ePJczYEkobj6",
        "outputId": "cf790f09-fcab-48fd-d59b-60bb44f6c47f"
      },
      "source": [
        "len(test_data)"
      ],
      "execution_count": null,
      "outputs": [
        {
          "output_type": "execute_result",
          "data": {
            "text/plain": [
              "441"
            ]
          },
          "metadata": {},
          "execution_count": 36
        }
      ]
    },
    {
      "cell_type": "code",
      "metadata": {
        "colab": {
          "base_uri": "https://localhost:8080/"
        },
        "id": "qqGMkCd7poOj",
        "outputId": "1153ce96-49a0-48dc-e8c0-4b1484f475fb"
      },
      "source": [
        "x_input = test_data[340:].reshape(1, -1)\n",
        "x_input.shape"
      ],
      "execution_count": null,
      "outputs": [
        {
          "output_type": "execute_result",
          "data": {
            "text/plain": [
              "(1, 101)"
            ]
          },
          "metadata": {},
          "execution_count": 37
        }
      ]
    },
    {
      "cell_type": "code",
      "metadata": {
        "id": "3Hi8dF5fp46P"
      },
      "source": [
        "temp_input = list(x_input)\n",
        "temp_input = temp_input[0].tolist()"
      ],
      "execution_count": null,
      "outputs": []
    },
    {
      "cell_type": "code",
      "metadata": {
        "colab": {
          "base_uri": "https://localhost:8080/"
        },
        "id": "kVcuXWyzqMh3",
        "outputId": "d4e4877a-2e66-4c45-ed1d-ac3bfcf1f98f"
      },
      "source": [
        "from numpy import array\n",
        "\n",
        "lst_output = []\n",
        "n_steps = 100\n",
        "i = 0\n",
        "while(i<30):\n",
        "\n",
        "  if(len(temp_input)>100):\n",
        "    x_input = np.array(temp_input[1:])\n",
        "    print(\"{} day input {}\".format(i, x_input))\n",
        "    x_input = x_input.reshape(1, -1)\n",
        "    x_input = x_input.reshape(1, n_steps, 1)\n",
        "    yhat = model.predict(x_input, verbose = 0)\n",
        "    print(\"{} day output {}\".format(i, yhat))\n",
        "    temp_input.extend(yhat[0].tolist())\n",
        "    temp_input = temp_input[1:]\n",
        "    lst_output.extend(yhat.tolist())\n",
        "    i = i + 1\n",
        "  else:\n",
        "    x_input = x_input.reshape((1, n_steps, 1))\n",
        "    yhat = model.predict(x_input, verbose=0)\n",
        "    print(yhat[0])\n",
        "    temp_input.extend(yhat[0].tolist())\n",
        "    print(len(temp_input))\n",
        "    lst_output.extend(yhat.tolist())\n",
        "    i = i + 1\n",
        "\n",
        "print(lst_output)"
      ],
      "execution_count": null,
      "outputs": [
        {
          "output_type": "stream",
          "name": "stdout",
          "text": [
            "0 day input [0.05292472 0.05279984 0.04887857 0.04720516 0.04638094 0.04832909\n",
            " 0.04453269 0.05040212 0.05042709 0.0525251  0.05349918 0.0509516\n",
            " 0.05404865 0.06186623 0.05976822 0.06104201 0.06513812 0.06181627\n",
            " 0.06641191 0.07060792 0.06990859 0.06918427 0.06843499 0.07260602\n",
            " 0.07647735 0.07805085 0.07882512 0.08554373 0.09068885 0.0970578\n",
            " 0.09373595 0.09840651 0.09688296 0.09973026 0.10849693 0.10682352\n",
            " 0.10160348 0.09176283 0.10100405 0.09913083 0.1026275  0.10702333\n",
            " 0.10809731 0.10255258 0.09808182 0.09973026 0.10027973 0.09943054\n",
            " 0.10402618 0.10300215 0.10327689 0.10097907 0.10085419 0.09963035\n",
            " 0.10027973 0.10784754 0.10837205 0.11341725 0.11109446 0.10152855\n",
            " 0.10237774 0.10609921 0.1098956  0.10967081 0.1065238  0.10447575\n",
            " 0.10712323 0.11841251 0.11519057 0.11688896 0.11973625 0.12135971\n",
            " 0.12732904 0.12338279 0.12078525 0.10804736 0.10949598 0.10592437\n",
            " 0.10819721 0.10759778 0.10077926 0.09298666 0.0942105  0.10025476\n",
            " 0.10270243 0.10292722 0.0990559  0.09041411 0.09271192 0.08939008\n",
            " 0.09226235 0.08349568 0.088416   0.09063889 0.09386083 0.09288676\n",
            " 0.09266197 0.08941506 0.08791648 0.09503472]\n",
            "0 day output [[0.09356305]]\n",
            "1 day input [0.05279984 0.04887857 0.04720516 0.04638094 0.04832909 0.04453269\n",
            " 0.05040212 0.05042709 0.0525251  0.05349918 0.0509516  0.05404865\n",
            " 0.06186623 0.05976822 0.06104201 0.06513812 0.06181627 0.06641191\n",
            " 0.07060792 0.06990859 0.06918427 0.06843499 0.07260602 0.07647735\n",
            " 0.07805085 0.07882512 0.08554373 0.09068885 0.0970578  0.09373595\n",
            " 0.09840651 0.09688296 0.09973026 0.10849693 0.10682352 0.10160348\n",
            " 0.09176283 0.10100405 0.09913083 0.1026275  0.10702333 0.10809731\n",
            " 0.10255258 0.09808182 0.09973026 0.10027973 0.09943054 0.10402618\n",
            " 0.10300215 0.10327689 0.10097907 0.10085419 0.09963035 0.10027973\n",
            " 0.10784754 0.10837205 0.11341725 0.11109446 0.10152855 0.10237774\n",
            " 0.10609921 0.1098956  0.10967081 0.1065238  0.10447575 0.10712323\n",
            " 0.11841251 0.11519057 0.11688896 0.11973625 0.12135971 0.12732904\n",
            " 0.12338279 0.12078525 0.10804736 0.10949598 0.10592437 0.10819721\n",
            " 0.10759778 0.10077926 0.09298666 0.0942105  0.10025476 0.10270243\n",
            " 0.10292722 0.0990559  0.09041411 0.09271192 0.08939008 0.09226235\n",
            " 0.08349568 0.088416   0.09063889 0.09386083 0.09288676 0.09266197\n",
            " 0.08941506 0.08791648 0.09503472 0.09356305]\n",
            "1 day output [[0.09387992]]\n",
            "2 day input [0.04887857 0.04720516 0.04638094 0.04832909 0.04453269 0.05040212\n",
            " 0.05042709 0.0525251  0.05349918 0.0509516  0.05404865 0.06186623\n",
            " 0.05976822 0.06104201 0.06513812 0.06181627 0.06641191 0.07060792\n",
            " 0.06990859 0.06918427 0.06843499 0.07260602 0.07647735 0.07805085\n",
            " 0.07882512 0.08554373 0.09068885 0.0970578  0.09373595 0.09840651\n",
            " 0.09688296 0.09973026 0.10849693 0.10682352 0.10160348 0.09176283\n",
            " 0.10100405 0.09913083 0.1026275  0.10702333 0.10809731 0.10255258\n",
            " 0.09808182 0.09973026 0.10027973 0.09943054 0.10402618 0.10300215\n",
            " 0.10327689 0.10097907 0.10085419 0.09963035 0.10027973 0.10784754\n",
            " 0.10837205 0.11341725 0.11109446 0.10152855 0.10237774 0.10609921\n",
            " 0.1098956  0.10967081 0.1065238  0.10447575 0.10712323 0.11841251\n",
            " 0.11519057 0.11688896 0.11973625 0.12135971 0.12732904 0.12338279\n",
            " 0.12078525 0.10804736 0.10949598 0.10592437 0.10819721 0.10759778\n",
            " 0.10077926 0.09298666 0.0942105  0.10025476 0.10270243 0.10292722\n",
            " 0.0990559  0.09041411 0.09271192 0.08939008 0.09226235 0.08349568\n",
            " 0.088416   0.09063889 0.09386083 0.09288676 0.09266197 0.08941506\n",
            " 0.08791648 0.09503472 0.09356305 0.09387992]\n",
            "2 day output [[0.09431379]]\n",
            "3 day input [0.04720516 0.04638094 0.04832909 0.04453269 0.05040212 0.05042709\n",
            " 0.0525251  0.05349918 0.0509516  0.05404865 0.06186623 0.05976822\n",
            " 0.06104201 0.06513812 0.06181627 0.06641191 0.07060792 0.06990859\n",
            " 0.06918427 0.06843499 0.07260602 0.07647735 0.07805085 0.07882512\n",
            " 0.08554373 0.09068885 0.0970578  0.09373595 0.09840651 0.09688296\n",
            " 0.09973026 0.10849693 0.10682352 0.10160348 0.09176283 0.10100405\n",
            " 0.09913083 0.1026275  0.10702333 0.10809731 0.10255258 0.09808182\n",
            " 0.09973026 0.10027973 0.09943054 0.10402618 0.10300215 0.10327689\n",
            " 0.10097907 0.10085419 0.09963035 0.10027973 0.10784754 0.10837205\n",
            " 0.11341725 0.11109446 0.10152855 0.10237774 0.10609921 0.1098956\n",
            " 0.10967081 0.1065238  0.10447575 0.10712323 0.11841251 0.11519057\n",
            " 0.11688896 0.11973625 0.12135971 0.12732904 0.12338279 0.12078525\n",
            " 0.10804736 0.10949598 0.10592437 0.10819721 0.10759778 0.10077926\n",
            " 0.09298666 0.0942105  0.10025476 0.10270243 0.10292722 0.0990559\n",
            " 0.09041411 0.09271192 0.08939008 0.09226235 0.08349568 0.088416\n",
            " 0.09063889 0.09386083 0.09288676 0.09266197 0.08941506 0.08791648\n",
            " 0.09503472 0.09356305 0.09387992 0.09431379]\n",
            "3 day output [[0.09479272]]\n",
            "4 day input [0.04638094 0.04832909 0.04453269 0.05040212 0.05042709 0.0525251\n",
            " 0.05349918 0.0509516  0.05404865 0.06186623 0.05976822 0.06104201\n",
            " 0.06513812 0.06181627 0.06641191 0.07060792 0.06990859 0.06918427\n",
            " 0.06843499 0.07260602 0.07647735 0.07805085 0.07882512 0.08554373\n",
            " 0.09068885 0.0970578  0.09373595 0.09840651 0.09688296 0.09973026\n",
            " 0.10849693 0.10682352 0.10160348 0.09176283 0.10100405 0.09913083\n",
            " 0.1026275  0.10702333 0.10809731 0.10255258 0.09808182 0.09973026\n",
            " 0.10027973 0.09943054 0.10402618 0.10300215 0.10327689 0.10097907\n",
            " 0.10085419 0.09963035 0.10027973 0.10784754 0.10837205 0.11341725\n",
            " 0.11109446 0.10152855 0.10237774 0.10609921 0.1098956  0.10967081\n",
            " 0.1065238  0.10447575 0.10712323 0.11841251 0.11519057 0.11688896\n",
            " 0.11973625 0.12135971 0.12732904 0.12338279 0.12078525 0.10804736\n",
            " 0.10949598 0.10592437 0.10819721 0.10759778 0.10077926 0.09298666\n",
            " 0.0942105  0.10025476 0.10270243 0.10292722 0.0990559  0.09041411\n",
            " 0.09271192 0.08939008 0.09226235 0.08349568 0.088416   0.09063889\n",
            " 0.09386083 0.09288676 0.09266197 0.08941506 0.08791648 0.09503472\n",
            " 0.09356305 0.09387992 0.09431379 0.09479272]\n",
            "4 day output [[0.09526996]]\n",
            "5 day input [0.04832909 0.04453269 0.05040212 0.05042709 0.0525251  0.05349918\n",
            " 0.0509516  0.05404865 0.06186623 0.05976822 0.06104201 0.06513812\n",
            " 0.06181627 0.06641191 0.07060792 0.06990859 0.06918427 0.06843499\n",
            " 0.07260602 0.07647735 0.07805085 0.07882512 0.08554373 0.09068885\n",
            " 0.0970578  0.09373595 0.09840651 0.09688296 0.09973026 0.10849693\n",
            " 0.10682352 0.10160348 0.09176283 0.10100405 0.09913083 0.1026275\n",
            " 0.10702333 0.10809731 0.10255258 0.09808182 0.09973026 0.10027973\n",
            " 0.09943054 0.10402618 0.10300215 0.10327689 0.10097907 0.10085419\n",
            " 0.09963035 0.10027973 0.10784754 0.10837205 0.11341725 0.11109446\n",
            " 0.10152855 0.10237774 0.10609921 0.1098956  0.10967081 0.1065238\n",
            " 0.10447575 0.10712323 0.11841251 0.11519057 0.11688896 0.11973625\n",
            " 0.12135971 0.12732904 0.12338279 0.12078525 0.10804736 0.10949598\n",
            " 0.10592437 0.10819721 0.10759778 0.10077926 0.09298666 0.0942105\n",
            " 0.10025476 0.10270243 0.10292722 0.0990559  0.09041411 0.09271192\n",
            " 0.08939008 0.09226235 0.08349568 0.088416   0.09063889 0.09386083\n",
            " 0.09288676 0.09266197 0.08941506 0.08791648 0.09503472 0.09356305\n",
            " 0.09387992 0.09431379 0.09479272 0.09526996]\n",
            "5 day output [[0.09572376]]\n",
            "6 day input [0.04453269 0.05040212 0.05042709 0.0525251  0.05349918 0.0509516\n",
            " 0.05404865 0.06186623 0.05976822 0.06104201 0.06513812 0.06181627\n",
            " 0.06641191 0.07060792 0.06990859 0.06918427 0.06843499 0.07260602\n",
            " 0.07647735 0.07805085 0.07882512 0.08554373 0.09068885 0.0970578\n",
            " 0.09373595 0.09840651 0.09688296 0.09973026 0.10849693 0.10682352\n",
            " 0.10160348 0.09176283 0.10100405 0.09913083 0.1026275  0.10702333\n",
            " 0.10809731 0.10255258 0.09808182 0.09973026 0.10027973 0.09943054\n",
            " 0.10402618 0.10300215 0.10327689 0.10097907 0.10085419 0.09963035\n",
            " 0.10027973 0.10784754 0.10837205 0.11341725 0.11109446 0.10152855\n",
            " 0.10237774 0.10609921 0.1098956  0.10967081 0.1065238  0.10447575\n",
            " 0.10712323 0.11841251 0.11519057 0.11688896 0.11973625 0.12135971\n",
            " 0.12732904 0.12338279 0.12078525 0.10804736 0.10949598 0.10592437\n",
            " 0.10819721 0.10759778 0.10077926 0.09298666 0.0942105  0.10025476\n",
            " 0.10270243 0.10292722 0.0990559  0.09041411 0.09271192 0.08939008\n",
            " 0.09226235 0.08349568 0.088416   0.09063889 0.09386083 0.09288676\n",
            " 0.09266197 0.08941506 0.08791648 0.09503472 0.09356305 0.09387992\n",
            " 0.09431379 0.09479272 0.09526996 0.09572376]\n",
            "6 day output [[0.09614909]]\n",
            "7 day input [0.05040212 0.05042709 0.0525251  0.05349918 0.0509516  0.05404865\n",
            " 0.06186623 0.05976822 0.06104201 0.06513812 0.06181627 0.06641191\n",
            " 0.07060792 0.06990859 0.06918427 0.06843499 0.07260602 0.07647735\n",
            " 0.07805085 0.07882512 0.08554373 0.09068885 0.0970578  0.09373595\n",
            " 0.09840651 0.09688296 0.09973026 0.10849693 0.10682352 0.10160348\n",
            " 0.09176283 0.10100405 0.09913083 0.1026275  0.10702333 0.10809731\n",
            " 0.10255258 0.09808182 0.09973026 0.10027973 0.09943054 0.10402618\n",
            " 0.10300215 0.10327689 0.10097907 0.10085419 0.09963035 0.10027973\n",
            " 0.10784754 0.10837205 0.11341725 0.11109446 0.10152855 0.10237774\n",
            " 0.10609921 0.1098956  0.10967081 0.1065238  0.10447575 0.10712323\n",
            " 0.11841251 0.11519057 0.11688896 0.11973625 0.12135971 0.12732904\n",
            " 0.12338279 0.12078525 0.10804736 0.10949598 0.10592437 0.10819721\n",
            " 0.10759778 0.10077926 0.09298666 0.0942105  0.10025476 0.10270243\n",
            " 0.10292722 0.0990559  0.09041411 0.09271192 0.08939008 0.09226235\n",
            " 0.08349568 0.088416   0.09063889 0.09386083 0.09288676 0.09266197\n",
            " 0.08941506 0.08791648 0.09503472 0.09356305 0.09387992 0.09431379\n",
            " 0.09479272 0.09526996 0.09572376 0.09614909]\n",
            "7 day output [[0.0965495]]\n",
            "8 day input [0.05042709 0.0525251  0.05349918 0.0509516  0.05404865 0.06186623\n",
            " 0.05976822 0.06104201 0.06513812 0.06181627 0.06641191 0.07060792\n",
            " 0.06990859 0.06918427 0.06843499 0.07260602 0.07647735 0.07805085\n",
            " 0.07882512 0.08554373 0.09068885 0.0970578  0.09373595 0.09840651\n",
            " 0.09688296 0.09973026 0.10849693 0.10682352 0.10160348 0.09176283\n",
            " 0.10100405 0.09913083 0.1026275  0.10702333 0.10809731 0.10255258\n",
            " 0.09808182 0.09973026 0.10027973 0.09943054 0.10402618 0.10300215\n",
            " 0.10327689 0.10097907 0.10085419 0.09963035 0.10027973 0.10784754\n",
            " 0.10837205 0.11341725 0.11109446 0.10152855 0.10237774 0.10609921\n",
            " 0.1098956  0.10967081 0.1065238  0.10447575 0.10712323 0.11841251\n",
            " 0.11519057 0.11688896 0.11973625 0.12135971 0.12732904 0.12338279\n",
            " 0.12078525 0.10804736 0.10949598 0.10592437 0.10819721 0.10759778\n",
            " 0.10077926 0.09298666 0.0942105  0.10025476 0.10270243 0.10292722\n",
            " 0.0990559  0.09041411 0.09271192 0.08939008 0.09226235 0.08349568\n",
            " 0.088416   0.09063889 0.09386083 0.09288676 0.09266197 0.08941506\n",
            " 0.08791648 0.09503472 0.09356305 0.09387992 0.09431379 0.09479272\n",
            " 0.09526996 0.09572376 0.09614909 0.0965495 ]\n",
            "8 day output [[0.09693173]]\n",
            "9 day input [0.0525251  0.05349918 0.0509516  0.05404865 0.06186623 0.05976822\n",
            " 0.06104201 0.06513812 0.06181627 0.06641191 0.07060792 0.06990859\n",
            " 0.06918427 0.06843499 0.07260602 0.07647735 0.07805085 0.07882512\n",
            " 0.08554373 0.09068885 0.0970578  0.09373595 0.09840651 0.09688296\n",
            " 0.09973026 0.10849693 0.10682352 0.10160348 0.09176283 0.10100405\n",
            " 0.09913083 0.1026275  0.10702333 0.10809731 0.10255258 0.09808182\n",
            " 0.09973026 0.10027973 0.09943054 0.10402618 0.10300215 0.10327689\n",
            " 0.10097907 0.10085419 0.09963035 0.10027973 0.10784754 0.10837205\n",
            " 0.11341725 0.11109446 0.10152855 0.10237774 0.10609921 0.1098956\n",
            " 0.10967081 0.1065238  0.10447575 0.10712323 0.11841251 0.11519057\n",
            " 0.11688896 0.11973625 0.12135971 0.12732904 0.12338279 0.12078525\n",
            " 0.10804736 0.10949598 0.10592437 0.10819721 0.10759778 0.10077926\n",
            " 0.09298666 0.0942105  0.10025476 0.10270243 0.10292722 0.0990559\n",
            " 0.09041411 0.09271192 0.08939008 0.09226235 0.08349568 0.088416\n",
            " 0.09063889 0.09386083 0.09288676 0.09266197 0.08941506 0.08791648\n",
            " 0.09503472 0.09356305 0.09387992 0.09431379 0.09479272 0.09526996\n",
            " 0.09572376 0.09614909 0.0965495  0.09693173]\n",
            "9 day output [[0.09730288]]\n",
            "10 day input [0.05349918 0.0509516  0.05404865 0.06186623 0.05976822 0.06104201\n",
            " 0.06513812 0.06181627 0.06641191 0.07060792 0.06990859 0.06918427\n",
            " 0.06843499 0.07260602 0.07647735 0.07805085 0.07882512 0.08554373\n",
            " 0.09068885 0.0970578  0.09373595 0.09840651 0.09688296 0.09973026\n",
            " 0.10849693 0.10682352 0.10160348 0.09176283 0.10100405 0.09913083\n",
            " 0.1026275  0.10702333 0.10809731 0.10255258 0.09808182 0.09973026\n",
            " 0.10027973 0.09943054 0.10402618 0.10300215 0.10327689 0.10097907\n",
            " 0.10085419 0.09963035 0.10027973 0.10784754 0.10837205 0.11341725\n",
            " 0.11109446 0.10152855 0.10237774 0.10609921 0.1098956  0.10967081\n",
            " 0.1065238  0.10447575 0.10712323 0.11841251 0.11519057 0.11688896\n",
            " 0.11973625 0.12135971 0.12732904 0.12338279 0.12078525 0.10804736\n",
            " 0.10949598 0.10592437 0.10819721 0.10759778 0.10077926 0.09298666\n",
            " 0.0942105  0.10025476 0.10270243 0.10292722 0.0990559  0.09041411\n",
            " 0.09271192 0.08939008 0.09226235 0.08349568 0.088416   0.09063889\n",
            " 0.09386083 0.09288676 0.09266197 0.08941506 0.08791648 0.09503472\n",
            " 0.09356305 0.09387992 0.09431379 0.09479272 0.09526996 0.09572376\n",
            " 0.09614909 0.0965495  0.09693173 0.09730288]\n",
            "10 day output [[0.09766936]]\n",
            "11 day input [0.0509516  0.05404865 0.06186623 0.05976822 0.06104201 0.06513812\n",
            " 0.06181627 0.06641191 0.07060792 0.06990859 0.06918427 0.06843499\n",
            " 0.07260602 0.07647735 0.07805085 0.07882512 0.08554373 0.09068885\n",
            " 0.0970578  0.09373595 0.09840651 0.09688296 0.09973026 0.10849693\n",
            " 0.10682352 0.10160348 0.09176283 0.10100405 0.09913083 0.1026275\n",
            " 0.10702333 0.10809731 0.10255258 0.09808182 0.09973026 0.10027973\n",
            " 0.09943054 0.10402618 0.10300215 0.10327689 0.10097907 0.10085419\n",
            " 0.09963035 0.10027973 0.10784754 0.10837205 0.11341725 0.11109446\n",
            " 0.10152855 0.10237774 0.10609921 0.1098956  0.10967081 0.1065238\n",
            " 0.10447575 0.10712323 0.11841251 0.11519057 0.11688896 0.11973625\n",
            " 0.12135971 0.12732904 0.12338279 0.12078525 0.10804736 0.10949598\n",
            " 0.10592437 0.10819721 0.10759778 0.10077926 0.09298666 0.0942105\n",
            " 0.10025476 0.10270243 0.10292722 0.0990559  0.09041411 0.09271192\n",
            " 0.08939008 0.09226235 0.08349568 0.088416   0.09063889 0.09386083\n",
            " 0.09288676 0.09266197 0.08941506 0.08791648 0.09503472 0.09356305\n",
            " 0.09387992 0.09431379 0.09479272 0.09526996 0.09572376 0.09614909\n",
            " 0.0965495  0.09693173 0.09730288 0.09766936]\n",
            "11 day output [[0.0980364]]\n",
            "12 day input [0.05404865 0.06186623 0.05976822 0.06104201 0.06513812 0.06181627\n",
            " 0.06641191 0.07060792 0.06990859 0.06918427 0.06843499 0.07260602\n",
            " 0.07647735 0.07805085 0.07882512 0.08554373 0.09068885 0.0970578\n",
            " 0.09373595 0.09840651 0.09688296 0.09973026 0.10849693 0.10682352\n",
            " 0.10160348 0.09176283 0.10100405 0.09913083 0.1026275  0.10702333\n",
            " 0.10809731 0.10255258 0.09808182 0.09973026 0.10027973 0.09943054\n",
            " 0.10402618 0.10300215 0.10327689 0.10097907 0.10085419 0.09963035\n",
            " 0.10027973 0.10784754 0.10837205 0.11341725 0.11109446 0.10152855\n",
            " 0.10237774 0.10609921 0.1098956  0.10967081 0.1065238  0.10447575\n",
            " 0.10712323 0.11841251 0.11519057 0.11688896 0.11973625 0.12135971\n",
            " 0.12732904 0.12338279 0.12078525 0.10804736 0.10949598 0.10592437\n",
            " 0.10819721 0.10759778 0.10077926 0.09298666 0.0942105  0.10025476\n",
            " 0.10270243 0.10292722 0.0990559  0.09041411 0.09271192 0.08939008\n",
            " 0.09226235 0.08349568 0.088416   0.09063889 0.09386083 0.09288676\n",
            " 0.09266197 0.08941506 0.08791648 0.09503472 0.09356305 0.09387992\n",
            " 0.09431379 0.09479272 0.09526996 0.09572376 0.09614909 0.0965495\n",
            " 0.09693173 0.09730288 0.09766936 0.0980364 ]\n",
            "12 day output [[0.09840802]]\n",
            "13 day input [0.06186623 0.05976822 0.06104201 0.06513812 0.06181627 0.06641191\n",
            " 0.07060792 0.06990859 0.06918427 0.06843499 0.07260602 0.07647735\n",
            " 0.07805085 0.07882512 0.08554373 0.09068885 0.0970578  0.09373595\n",
            " 0.09840651 0.09688296 0.09973026 0.10849693 0.10682352 0.10160348\n",
            " 0.09176283 0.10100405 0.09913083 0.1026275  0.10702333 0.10809731\n",
            " 0.10255258 0.09808182 0.09973026 0.10027973 0.09943054 0.10402618\n",
            " 0.10300215 0.10327689 0.10097907 0.10085419 0.09963035 0.10027973\n",
            " 0.10784754 0.10837205 0.11341725 0.11109446 0.10152855 0.10237774\n",
            " 0.10609921 0.1098956  0.10967081 0.1065238  0.10447575 0.10712323\n",
            " 0.11841251 0.11519057 0.11688896 0.11973625 0.12135971 0.12732904\n",
            " 0.12338279 0.12078525 0.10804736 0.10949598 0.10592437 0.10819721\n",
            " 0.10759778 0.10077926 0.09298666 0.0942105  0.10025476 0.10270243\n",
            " 0.10292722 0.0990559  0.09041411 0.09271192 0.08939008 0.09226235\n",
            " 0.08349568 0.088416   0.09063889 0.09386083 0.09288676 0.09266197\n",
            " 0.08941506 0.08791648 0.09503472 0.09356305 0.09387992 0.09431379\n",
            " 0.09479272 0.09526996 0.09572376 0.09614909 0.0965495  0.09693173\n",
            " 0.09730288 0.09766936 0.0980364  0.09840802]\n",
            "13 day output [[0.09878717]]\n",
            "14 day input [0.05976822 0.06104201 0.06513812 0.06181627 0.06641191 0.07060792\n",
            " 0.06990859 0.06918427 0.06843499 0.07260602 0.07647735 0.07805085\n",
            " 0.07882512 0.08554373 0.09068885 0.0970578  0.09373595 0.09840651\n",
            " 0.09688296 0.09973026 0.10849693 0.10682352 0.10160348 0.09176283\n",
            " 0.10100405 0.09913083 0.1026275  0.10702333 0.10809731 0.10255258\n",
            " 0.09808182 0.09973026 0.10027973 0.09943054 0.10402618 0.10300215\n",
            " 0.10327689 0.10097907 0.10085419 0.09963035 0.10027973 0.10784754\n",
            " 0.10837205 0.11341725 0.11109446 0.10152855 0.10237774 0.10609921\n",
            " 0.1098956  0.10967081 0.1065238  0.10447575 0.10712323 0.11841251\n",
            " 0.11519057 0.11688896 0.11973625 0.12135971 0.12732904 0.12338279\n",
            " 0.12078525 0.10804736 0.10949598 0.10592437 0.10819721 0.10759778\n",
            " 0.10077926 0.09298666 0.0942105  0.10025476 0.10270243 0.10292722\n",
            " 0.0990559  0.09041411 0.09271192 0.08939008 0.09226235 0.08349568\n",
            " 0.088416   0.09063889 0.09386083 0.09288676 0.09266197 0.08941506\n",
            " 0.08791648 0.09503472 0.09356305 0.09387992 0.09431379 0.09479272\n",
            " 0.09526996 0.09572376 0.09614909 0.0965495  0.09693173 0.09730288\n",
            " 0.09766936 0.0980364  0.09840802 0.09878717]\n",
            "14 day output [[0.09917564]]\n",
            "15 day input [0.06104201 0.06513812 0.06181627 0.06641191 0.07060792 0.06990859\n",
            " 0.06918427 0.06843499 0.07260602 0.07647735 0.07805085 0.07882512\n",
            " 0.08554373 0.09068885 0.0970578  0.09373595 0.09840651 0.09688296\n",
            " 0.09973026 0.10849693 0.10682352 0.10160348 0.09176283 0.10100405\n",
            " 0.09913083 0.1026275  0.10702333 0.10809731 0.10255258 0.09808182\n",
            " 0.09973026 0.10027973 0.09943054 0.10402618 0.10300215 0.10327689\n",
            " 0.10097907 0.10085419 0.09963035 0.10027973 0.10784754 0.10837205\n",
            " 0.11341725 0.11109446 0.10152855 0.10237774 0.10609921 0.1098956\n",
            " 0.10967081 0.1065238  0.10447575 0.10712323 0.11841251 0.11519057\n",
            " 0.11688896 0.11973625 0.12135971 0.12732904 0.12338279 0.12078525\n",
            " 0.10804736 0.10949598 0.10592437 0.10819721 0.10759778 0.10077926\n",
            " 0.09298666 0.0942105  0.10025476 0.10270243 0.10292722 0.0990559\n",
            " 0.09041411 0.09271192 0.08939008 0.09226235 0.08349568 0.088416\n",
            " 0.09063889 0.09386083 0.09288676 0.09266197 0.08941506 0.08791648\n",
            " 0.09503472 0.09356305 0.09387992 0.09431379 0.09479272 0.09526996\n",
            " 0.09572376 0.09614909 0.0965495  0.09693173 0.09730288 0.09766936\n",
            " 0.0980364  0.09840802 0.09878717 0.09917564]\n",
            "15 day output [[0.09957439]]\n",
            "16 day input [0.06513812 0.06181627 0.06641191 0.07060792 0.06990859 0.06918427\n",
            " 0.06843499 0.07260602 0.07647735 0.07805085 0.07882512 0.08554373\n",
            " 0.09068885 0.0970578  0.09373595 0.09840651 0.09688296 0.09973026\n",
            " 0.10849693 0.10682352 0.10160348 0.09176283 0.10100405 0.09913083\n",
            " 0.1026275  0.10702333 0.10809731 0.10255258 0.09808182 0.09973026\n",
            " 0.10027973 0.09943054 0.10402618 0.10300215 0.10327689 0.10097907\n",
            " 0.10085419 0.09963035 0.10027973 0.10784754 0.10837205 0.11341725\n",
            " 0.11109446 0.10152855 0.10237774 0.10609921 0.1098956  0.10967081\n",
            " 0.1065238  0.10447575 0.10712323 0.11841251 0.11519057 0.11688896\n",
            " 0.11973625 0.12135971 0.12732904 0.12338279 0.12078525 0.10804736\n",
            " 0.10949598 0.10592437 0.10819721 0.10759778 0.10077926 0.09298666\n",
            " 0.0942105  0.10025476 0.10270243 0.10292722 0.0990559  0.09041411\n",
            " 0.09271192 0.08939008 0.09226235 0.08349568 0.088416   0.09063889\n",
            " 0.09386083 0.09288676 0.09266197 0.08941506 0.08791648 0.09503472\n",
            " 0.09356305 0.09387992 0.09431379 0.09479272 0.09526996 0.09572376\n",
            " 0.09614909 0.0965495  0.09693173 0.09730288 0.09766936 0.0980364\n",
            " 0.09840802 0.09878717 0.09917564 0.09957439]\n",
            "16 day output [[0.09998339]]\n",
            "17 day input [0.06181627 0.06641191 0.07060792 0.06990859 0.06918427 0.06843499\n",
            " 0.07260602 0.07647735 0.07805085 0.07882512 0.08554373 0.09068885\n",
            " 0.0970578  0.09373595 0.09840651 0.09688296 0.09973026 0.10849693\n",
            " 0.10682352 0.10160348 0.09176283 0.10100405 0.09913083 0.1026275\n",
            " 0.10702333 0.10809731 0.10255258 0.09808182 0.09973026 0.10027973\n",
            " 0.09943054 0.10402618 0.10300215 0.10327689 0.10097907 0.10085419\n",
            " 0.09963035 0.10027973 0.10784754 0.10837205 0.11341725 0.11109446\n",
            " 0.10152855 0.10237774 0.10609921 0.1098956  0.10967081 0.1065238\n",
            " 0.10447575 0.10712323 0.11841251 0.11519057 0.11688896 0.11973625\n",
            " 0.12135971 0.12732904 0.12338279 0.12078525 0.10804736 0.10949598\n",
            " 0.10592437 0.10819721 0.10759778 0.10077926 0.09298666 0.0942105\n",
            " 0.10025476 0.10270243 0.10292722 0.0990559  0.09041411 0.09271192\n",
            " 0.08939008 0.09226235 0.08349568 0.088416   0.09063889 0.09386083\n",
            " 0.09288676 0.09266197 0.08941506 0.08791648 0.09503472 0.09356305\n",
            " 0.09387992 0.09431379 0.09479272 0.09526996 0.09572376 0.09614909\n",
            " 0.0965495  0.09693173 0.09730288 0.09766936 0.0980364  0.09840802\n",
            " 0.09878717 0.09917564 0.09957439 0.09998339]\n",
            "17 day output [[0.10040199]]\n",
            "18 day input [0.06641191 0.07060792 0.06990859 0.06918427 0.06843499 0.07260602\n",
            " 0.07647735 0.07805085 0.07882512 0.08554373 0.09068885 0.0970578\n",
            " 0.09373595 0.09840651 0.09688296 0.09973026 0.10849693 0.10682352\n",
            " 0.10160348 0.09176283 0.10100405 0.09913083 0.1026275  0.10702333\n",
            " 0.10809731 0.10255258 0.09808182 0.09973026 0.10027973 0.09943054\n",
            " 0.10402618 0.10300215 0.10327689 0.10097907 0.10085419 0.09963035\n",
            " 0.10027973 0.10784754 0.10837205 0.11341725 0.11109446 0.10152855\n",
            " 0.10237774 0.10609921 0.1098956  0.10967081 0.1065238  0.10447575\n",
            " 0.10712323 0.11841251 0.11519057 0.11688896 0.11973625 0.12135971\n",
            " 0.12732904 0.12338279 0.12078525 0.10804736 0.10949598 0.10592437\n",
            " 0.10819721 0.10759778 0.10077926 0.09298666 0.0942105  0.10025476\n",
            " 0.10270243 0.10292722 0.0990559  0.09041411 0.09271192 0.08939008\n",
            " 0.09226235 0.08349568 0.088416   0.09063889 0.09386083 0.09288676\n",
            " 0.09266197 0.08941506 0.08791648 0.09503472 0.09356305 0.09387992\n",
            " 0.09431379 0.09479272 0.09526996 0.09572376 0.09614909 0.0965495\n",
            " 0.09693173 0.09730288 0.09766936 0.0980364  0.09840802 0.09878717\n",
            " 0.09917564 0.09957439 0.09998339 0.10040199]\n",
            "18 day output [[0.10082891]]\n",
            "19 day input [0.07060792 0.06990859 0.06918427 0.06843499 0.07260602 0.07647735\n",
            " 0.07805085 0.07882512 0.08554373 0.09068885 0.0970578  0.09373595\n",
            " 0.09840651 0.09688296 0.09973026 0.10849693 0.10682352 0.10160348\n",
            " 0.09176283 0.10100405 0.09913083 0.1026275  0.10702333 0.10809731\n",
            " 0.10255258 0.09808182 0.09973026 0.10027973 0.09943054 0.10402618\n",
            " 0.10300215 0.10327689 0.10097907 0.10085419 0.09963035 0.10027973\n",
            " 0.10784754 0.10837205 0.11341725 0.11109446 0.10152855 0.10237774\n",
            " 0.10609921 0.1098956  0.10967081 0.1065238  0.10447575 0.10712323\n",
            " 0.11841251 0.11519057 0.11688896 0.11973625 0.12135971 0.12732904\n",
            " 0.12338279 0.12078525 0.10804736 0.10949598 0.10592437 0.10819721\n",
            " 0.10759778 0.10077926 0.09298666 0.0942105  0.10025476 0.10270243\n",
            " 0.10292722 0.0990559  0.09041411 0.09271192 0.08939008 0.09226235\n",
            " 0.08349568 0.088416   0.09063889 0.09386083 0.09288676 0.09266197\n",
            " 0.08941506 0.08791648 0.09503472 0.09356305 0.09387992 0.09431379\n",
            " 0.09479272 0.09526996 0.09572376 0.09614909 0.0965495  0.09693173\n",
            " 0.09730288 0.09766936 0.0980364  0.09840802 0.09878717 0.09917564\n",
            " 0.09957439 0.09998339 0.10040199 0.10082891]\n",
            "19 day output [[0.10126247]]\n",
            "20 day input [0.06990859 0.06918427 0.06843499 0.07260602 0.07647735 0.07805085\n",
            " 0.07882512 0.08554373 0.09068885 0.0970578  0.09373595 0.09840651\n",
            " 0.09688296 0.09973026 0.10849693 0.10682352 0.10160348 0.09176283\n",
            " 0.10100405 0.09913083 0.1026275  0.10702333 0.10809731 0.10255258\n",
            " 0.09808182 0.09973026 0.10027973 0.09943054 0.10402618 0.10300215\n",
            " 0.10327689 0.10097907 0.10085419 0.09963035 0.10027973 0.10784754\n",
            " 0.10837205 0.11341725 0.11109446 0.10152855 0.10237774 0.10609921\n",
            " 0.1098956  0.10967081 0.1065238  0.10447575 0.10712323 0.11841251\n",
            " 0.11519057 0.11688896 0.11973625 0.12135971 0.12732904 0.12338279\n",
            " 0.12078525 0.10804736 0.10949598 0.10592437 0.10819721 0.10759778\n",
            " 0.10077926 0.09298666 0.0942105  0.10025476 0.10270243 0.10292722\n",
            " 0.0990559  0.09041411 0.09271192 0.08939008 0.09226235 0.08349568\n",
            " 0.088416   0.09063889 0.09386083 0.09288676 0.09266197 0.08941506\n",
            " 0.08791648 0.09503472 0.09356305 0.09387992 0.09431379 0.09479272\n",
            " 0.09526996 0.09572376 0.09614909 0.0965495  0.09693173 0.09730288\n",
            " 0.09766936 0.0980364  0.09840802 0.09878717 0.09917564 0.09957439\n",
            " 0.09998339 0.10040199 0.10082891 0.10126247]\n",
            "20 day output [[0.10170078]]\n",
            "21 day input [0.06918427 0.06843499 0.07260602 0.07647735 0.07805085 0.07882512\n",
            " 0.08554373 0.09068885 0.0970578  0.09373595 0.09840651 0.09688296\n",
            " 0.09973026 0.10849693 0.10682352 0.10160348 0.09176283 0.10100405\n",
            " 0.09913083 0.1026275  0.10702333 0.10809731 0.10255258 0.09808182\n",
            " 0.09973026 0.10027973 0.09943054 0.10402618 0.10300215 0.10327689\n",
            " 0.10097907 0.10085419 0.09963035 0.10027973 0.10784754 0.10837205\n",
            " 0.11341725 0.11109446 0.10152855 0.10237774 0.10609921 0.1098956\n",
            " 0.10967081 0.1065238  0.10447575 0.10712323 0.11841251 0.11519057\n",
            " 0.11688896 0.11973625 0.12135971 0.12732904 0.12338279 0.12078525\n",
            " 0.10804736 0.10949598 0.10592437 0.10819721 0.10759778 0.10077926\n",
            " 0.09298666 0.0942105  0.10025476 0.10270243 0.10292722 0.0990559\n",
            " 0.09041411 0.09271192 0.08939008 0.09226235 0.08349568 0.088416\n",
            " 0.09063889 0.09386083 0.09288676 0.09266197 0.08941506 0.08791648\n",
            " 0.09503472 0.09356305 0.09387992 0.09431379 0.09479272 0.09526996\n",
            " 0.09572376 0.09614909 0.0965495  0.09693173 0.09730288 0.09766936\n",
            " 0.0980364  0.09840802 0.09878717 0.09917564 0.09957439 0.09998339\n",
            " 0.10040199 0.10082891 0.10126247 0.10170078]\n",
            "21 day output [[0.10214179]]\n",
            "22 day input [0.06843499 0.07260602 0.07647735 0.07805085 0.07882512 0.08554373\n",
            " 0.09068885 0.0970578  0.09373595 0.09840651 0.09688296 0.09973026\n",
            " 0.10849693 0.10682352 0.10160348 0.09176283 0.10100405 0.09913083\n",
            " 0.1026275  0.10702333 0.10809731 0.10255258 0.09808182 0.09973026\n",
            " 0.10027973 0.09943054 0.10402618 0.10300215 0.10327689 0.10097907\n",
            " 0.10085419 0.09963035 0.10027973 0.10784754 0.10837205 0.11341725\n",
            " 0.11109446 0.10152855 0.10237774 0.10609921 0.1098956  0.10967081\n",
            " 0.1065238  0.10447575 0.10712323 0.11841251 0.11519057 0.11688896\n",
            " 0.11973625 0.12135971 0.12732904 0.12338279 0.12078525 0.10804736\n",
            " 0.10949598 0.10592437 0.10819721 0.10759778 0.10077926 0.09298666\n",
            " 0.0942105  0.10025476 0.10270243 0.10292722 0.0990559  0.09041411\n",
            " 0.09271192 0.08939008 0.09226235 0.08349568 0.088416   0.09063889\n",
            " 0.09386083 0.09288676 0.09266197 0.08941506 0.08791648 0.09503472\n",
            " 0.09356305 0.09387992 0.09431379 0.09479272 0.09526996 0.09572376\n",
            " 0.09614909 0.0965495  0.09693173 0.09730288 0.09766936 0.0980364\n",
            " 0.09840802 0.09878717 0.09917564 0.09957439 0.09998339 0.10040199\n",
            " 0.10082891 0.10126247 0.10170078 0.10214179]\n",
            "22 day output [[0.10258353]]\n",
            "23 day input [0.07260602 0.07647735 0.07805085 0.07882512 0.08554373 0.09068885\n",
            " 0.0970578  0.09373595 0.09840651 0.09688296 0.09973026 0.10849693\n",
            " 0.10682352 0.10160348 0.09176283 0.10100405 0.09913083 0.1026275\n",
            " 0.10702333 0.10809731 0.10255258 0.09808182 0.09973026 0.10027973\n",
            " 0.09943054 0.10402618 0.10300215 0.10327689 0.10097907 0.10085419\n",
            " 0.09963035 0.10027973 0.10784754 0.10837205 0.11341725 0.11109446\n",
            " 0.10152855 0.10237774 0.10609921 0.1098956  0.10967081 0.1065238\n",
            " 0.10447575 0.10712323 0.11841251 0.11519057 0.11688896 0.11973625\n",
            " 0.12135971 0.12732904 0.12338279 0.12078525 0.10804736 0.10949598\n",
            " 0.10592437 0.10819721 0.10759778 0.10077926 0.09298666 0.0942105\n",
            " 0.10025476 0.10270243 0.10292722 0.0990559  0.09041411 0.09271192\n",
            " 0.08939008 0.09226235 0.08349568 0.088416   0.09063889 0.09386083\n",
            " 0.09288676 0.09266197 0.08941506 0.08791648 0.09503472 0.09356305\n",
            " 0.09387992 0.09431379 0.09479272 0.09526996 0.09572376 0.09614909\n",
            " 0.0965495  0.09693173 0.09730288 0.09766936 0.0980364  0.09840802\n",
            " 0.09878717 0.09917564 0.09957439 0.09998339 0.10040199 0.10082891\n",
            " 0.10126247 0.10170078 0.10214179 0.10258353]\n",
            "23 day output [[0.10302404]]\n",
            "24 day input [0.07647735 0.07805085 0.07882512 0.08554373 0.09068885 0.0970578\n",
            " 0.09373595 0.09840651 0.09688296 0.09973026 0.10849693 0.10682352\n",
            " 0.10160348 0.09176283 0.10100405 0.09913083 0.1026275  0.10702333\n",
            " 0.10809731 0.10255258 0.09808182 0.09973026 0.10027973 0.09943054\n",
            " 0.10402618 0.10300215 0.10327689 0.10097907 0.10085419 0.09963035\n",
            " 0.10027973 0.10784754 0.10837205 0.11341725 0.11109446 0.10152855\n",
            " 0.10237774 0.10609921 0.1098956  0.10967081 0.1065238  0.10447575\n",
            " 0.10712323 0.11841251 0.11519057 0.11688896 0.11973625 0.12135971\n",
            " 0.12732904 0.12338279 0.12078525 0.10804736 0.10949598 0.10592437\n",
            " 0.10819721 0.10759778 0.10077926 0.09298666 0.0942105  0.10025476\n",
            " 0.10270243 0.10292722 0.0990559  0.09041411 0.09271192 0.08939008\n",
            " 0.09226235 0.08349568 0.088416   0.09063889 0.09386083 0.09288676\n",
            " 0.09266197 0.08941506 0.08791648 0.09503472 0.09356305 0.09387992\n",
            " 0.09431379 0.09479272 0.09526996 0.09572376 0.09614909 0.0965495\n",
            " 0.09693173 0.09730288 0.09766936 0.0980364  0.09840802 0.09878717\n",
            " 0.09917564 0.09957439 0.09998339 0.10040199 0.10082891 0.10126247\n",
            " 0.10170078 0.10214179 0.10258353 0.10302404]\n",
            "24 day output [[0.10346169]]\n",
            "25 day input [0.07805085 0.07882512 0.08554373 0.09068885 0.0970578  0.09373595\n",
            " 0.09840651 0.09688296 0.09973026 0.10849693 0.10682352 0.10160348\n",
            " 0.09176283 0.10100405 0.09913083 0.1026275  0.10702333 0.10809731\n",
            " 0.10255258 0.09808182 0.09973026 0.10027973 0.09943054 0.10402618\n",
            " 0.10300215 0.10327689 0.10097907 0.10085419 0.09963035 0.10027973\n",
            " 0.10784754 0.10837205 0.11341725 0.11109446 0.10152855 0.10237774\n",
            " 0.10609921 0.1098956  0.10967081 0.1065238  0.10447575 0.10712323\n",
            " 0.11841251 0.11519057 0.11688896 0.11973625 0.12135971 0.12732904\n",
            " 0.12338279 0.12078525 0.10804736 0.10949598 0.10592437 0.10819721\n",
            " 0.10759778 0.10077926 0.09298666 0.0942105  0.10025476 0.10270243\n",
            " 0.10292722 0.0990559  0.09041411 0.09271192 0.08939008 0.09226235\n",
            " 0.08349568 0.088416   0.09063889 0.09386083 0.09288676 0.09266197\n",
            " 0.08941506 0.08791648 0.09503472 0.09356305 0.09387992 0.09431379\n",
            " 0.09479272 0.09526996 0.09572376 0.09614909 0.0965495  0.09693173\n",
            " 0.09730288 0.09766936 0.0980364  0.09840802 0.09878717 0.09917564\n",
            " 0.09957439 0.09998339 0.10040199 0.10082891 0.10126247 0.10170078\n",
            " 0.10214179 0.10258353 0.10302404 0.10346169]\n",
            "25 day output [[0.10389502]]\n",
            "26 day input [0.07882512 0.08554373 0.09068885 0.0970578  0.09373595 0.09840651\n",
            " 0.09688296 0.09973026 0.10849693 0.10682352 0.10160348 0.09176283\n",
            " 0.10100405 0.09913083 0.1026275  0.10702333 0.10809731 0.10255258\n",
            " 0.09808182 0.09973026 0.10027973 0.09943054 0.10402618 0.10300215\n",
            " 0.10327689 0.10097907 0.10085419 0.09963035 0.10027973 0.10784754\n",
            " 0.10837205 0.11341725 0.11109446 0.10152855 0.10237774 0.10609921\n",
            " 0.1098956  0.10967081 0.1065238  0.10447575 0.10712323 0.11841251\n",
            " 0.11519057 0.11688896 0.11973625 0.12135971 0.12732904 0.12338279\n",
            " 0.12078525 0.10804736 0.10949598 0.10592437 0.10819721 0.10759778\n",
            " 0.10077926 0.09298666 0.0942105  0.10025476 0.10270243 0.10292722\n",
            " 0.0990559  0.09041411 0.09271192 0.08939008 0.09226235 0.08349568\n",
            " 0.088416   0.09063889 0.09386083 0.09288676 0.09266197 0.08941506\n",
            " 0.08791648 0.09503472 0.09356305 0.09387992 0.09431379 0.09479272\n",
            " 0.09526996 0.09572376 0.09614909 0.0965495  0.09693173 0.09730288\n",
            " 0.09766936 0.0980364  0.09840802 0.09878717 0.09917564 0.09957439\n",
            " 0.09998339 0.10040199 0.10082891 0.10126247 0.10170078 0.10214179\n",
            " 0.10258353 0.10302404 0.10346169 0.10389502]\n",
            "26 day output [[0.1043229]]\n",
            "27 day input [0.08554373 0.09068885 0.0970578  0.09373595 0.09840651 0.09688296\n",
            " 0.09973026 0.10849693 0.10682352 0.10160348 0.09176283 0.10100405\n",
            " 0.09913083 0.1026275  0.10702333 0.10809731 0.10255258 0.09808182\n",
            " 0.09973026 0.10027973 0.09943054 0.10402618 0.10300215 0.10327689\n",
            " 0.10097907 0.10085419 0.09963035 0.10027973 0.10784754 0.10837205\n",
            " 0.11341725 0.11109446 0.10152855 0.10237774 0.10609921 0.1098956\n",
            " 0.10967081 0.1065238  0.10447575 0.10712323 0.11841251 0.11519057\n",
            " 0.11688896 0.11973625 0.12135971 0.12732904 0.12338279 0.12078525\n",
            " 0.10804736 0.10949598 0.10592437 0.10819721 0.10759778 0.10077926\n",
            " 0.09298666 0.0942105  0.10025476 0.10270243 0.10292722 0.0990559\n",
            " 0.09041411 0.09271192 0.08939008 0.09226235 0.08349568 0.088416\n",
            " 0.09063889 0.09386083 0.09288676 0.09266197 0.08941506 0.08791648\n",
            " 0.09503472 0.09356305 0.09387992 0.09431379 0.09479272 0.09526996\n",
            " 0.09572376 0.09614909 0.0965495  0.09693173 0.09730288 0.09766936\n",
            " 0.0980364  0.09840802 0.09878717 0.09917564 0.09957439 0.09998339\n",
            " 0.10040199 0.10082891 0.10126247 0.10170078 0.10214179 0.10258353\n",
            " 0.10302404 0.10346169 0.10389502 0.1043229 ]\n",
            "27 day output [[0.10474442]]\n",
            "28 day input [0.09068885 0.0970578  0.09373595 0.09840651 0.09688296 0.09973026\n",
            " 0.10849693 0.10682352 0.10160348 0.09176283 0.10100405 0.09913083\n",
            " 0.1026275  0.10702333 0.10809731 0.10255258 0.09808182 0.09973026\n",
            " 0.10027973 0.09943054 0.10402618 0.10300215 0.10327689 0.10097907\n",
            " 0.10085419 0.09963035 0.10027973 0.10784754 0.10837205 0.11341725\n",
            " 0.11109446 0.10152855 0.10237774 0.10609921 0.1098956  0.10967081\n",
            " 0.1065238  0.10447575 0.10712323 0.11841251 0.11519057 0.11688896\n",
            " 0.11973625 0.12135971 0.12732904 0.12338279 0.12078525 0.10804736\n",
            " 0.10949598 0.10592437 0.10819721 0.10759778 0.10077926 0.09298666\n",
            " 0.0942105  0.10025476 0.10270243 0.10292722 0.0990559  0.09041411\n",
            " 0.09271192 0.08939008 0.09226235 0.08349568 0.088416   0.09063889\n",
            " 0.09386083 0.09288676 0.09266197 0.08941506 0.08791648 0.09503472\n",
            " 0.09356305 0.09387992 0.09431379 0.09479272 0.09526996 0.09572376\n",
            " 0.09614909 0.0965495  0.09693173 0.09730288 0.09766936 0.0980364\n",
            " 0.09840802 0.09878717 0.09917564 0.09957439 0.09998339 0.10040199\n",
            " 0.10082891 0.10126247 0.10170078 0.10214179 0.10258353 0.10302404\n",
            " 0.10346169 0.10389502 0.1043229  0.10474442]\n",
            "28 day output [[0.10515894]]\n",
            "29 day input [0.0970578  0.09373595 0.09840651 0.09688296 0.09973026 0.10849693\n",
            " 0.10682352 0.10160348 0.09176283 0.10100405 0.09913083 0.1026275\n",
            " 0.10702333 0.10809731 0.10255258 0.09808182 0.09973026 0.10027973\n",
            " 0.09943054 0.10402618 0.10300215 0.10327689 0.10097907 0.10085419\n",
            " 0.09963035 0.10027973 0.10784754 0.10837205 0.11341725 0.11109446\n",
            " 0.10152855 0.10237774 0.10609921 0.1098956  0.10967081 0.1065238\n",
            " 0.10447575 0.10712323 0.11841251 0.11519057 0.11688896 0.11973625\n",
            " 0.12135971 0.12732904 0.12338279 0.12078525 0.10804736 0.10949598\n",
            " 0.10592437 0.10819721 0.10759778 0.10077926 0.09298666 0.0942105\n",
            " 0.10025476 0.10270243 0.10292722 0.0990559  0.09041411 0.09271192\n",
            " 0.08939008 0.09226235 0.08349568 0.088416   0.09063889 0.09386083\n",
            " 0.09288676 0.09266197 0.08941506 0.08791648 0.09503472 0.09356305\n",
            " 0.09387992 0.09431379 0.09479272 0.09526996 0.09572376 0.09614909\n",
            " 0.0965495  0.09693173 0.09730288 0.09766936 0.0980364  0.09840802\n",
            " 0.09878717 0.09917564 0.09957439 0.09998339 0.10040199 0.10082891\n",
            " 0.10126247 0.10170078 0.10214179 0.10258353 0.10302404 0.10346169\n",
            " 0.10389502 0.1043229  0.10474442 0.10515894]\n",
            "29 day output [[0.10556614]]\n",
            "[[0.09356305003166199], [0.09387992322444916], [0.09431378543376923], [0.09479271620512009], [0.09526995569467545], [0.09572375565767288], [0.09614909440279007], [0.09654950350522995], [0.09693172574043274], [0.0973028838634491], [0.09766935557126999], [0.09803640097379684], [0.09840802103281021], [0.09878717362880707], [0.09917563945055008], [0.09957438707351685], [0.09998339414596558], [0.10040199011564255], [0.10082890838384628], [0.10126247256994247], [0.1017007827758789], [0.10214179009199142], [0.10258352756500244], [0.10302403569221497], [0.10346169024705887], [0.10389502346515656], [0.1043229028582573], [0.10474441945552826], [0.10515893995761871], [0.10556613653898239]]\n"
          ]
        }
      ]
    },
    {
      "cell_type": "code",
      "metadata": {
        "id": "tNjEJ9c4sKGB"
      },
      "source": [
        "day_new = np.arange(1, 101)\n",
        "day_pred = np.arange(101, 131)"
      ],
      "execution_count": null,
      "outputs": []
    },
    {
      "cell_type": "code",
      "metadata": {
        "colab": {
          "base_uri": "https://localhost:8080/"
        },
        "id": "vGVgnHLOtPiN",
        "outputId": "447789ce-87ab-4ac3-8f28-4a1c841b0f29"
      },
      "source": [
        "len(df1)"
      ],
      "execution_count": null,
      "outputs": [
        {
          "output_type": "execute_result",
          "data": {
            "text/plain": [
              "1258"
            ]
          },
          "metadata": {},
          "execution_count": 41
        }
      ]
    },
    {
      "cell_type": "code",
      "metadata": {
        "id": "LNl41qVwtR30"
      },
      "source": [
        "df3 = df1.tolist()\n",
        "df3.extend(lst_output)"
      ],
      "execution_count": null,
      "outputs": []
    },
    {
      "cell_type": "code",
      "metadata": {
        "colab": {
          "base_uri": "https://localhost:8080/",
          "height": 282
        },
        "id": "kIqGomp-tg46",
        "outputId": "a5578974-ced8-49fc-afab-3dcf2f890fe1"
      },
      "source": [
        "plt.plot(day_new, sc.inverse_transform(df1[1158:]))\n",
        "plt.plot(day_pred, sc.inverse_transform(lst_output))"
      ],
      "execution_count": null,
      "outputs": [
        {
          "output_type": "execute_result",
          "data": {
            "text/plain": [
              "[<matplotlib.lines.Line2D at 0x7f48628da3d0>]"
            ]
          },
          "metadata": {},
          "execution_count": 43
        },
        {
          "output_type": "display_data",
          "data": {
            "image/png": "[encoded data removed]",
            "text/plain": [
              "<Figure size 432x288 with 1 Axes>"
            ]
          },
          "metadata": {
            "needs_background": "light"
          }
        }
      ]
    },
    {
      "cell_type": "code",
      "metadata": {
        "colab": {
          "base_uri": "https://localhost:8080/",
          "height": 282
        },
        "id": "XH35_RVUuY-b",
        "outputId": "bc324020-0983-4d32-b371-eeca171b7e5a"
      },
      "source": [
        "df3 = df1.tolist()\n",
        "df3.extend(lst_output)\n",
        "plt.plot(df3[1000:])"
      ],
      "execution_count": null,
      "outputs": [
        {
          "output_type": "execute_result",
          "data": {
            "text/plain": [
              "[<matplotlib.lines.Line2D at 0x7f48628fec90>]"
            ]
          },
          "metadata": {},
          "execution_count": 44
        },
        {
          "output_type": "display_data",
          "data": {
            "image/png": "[encoded data removed]",
            "text/plain": [
              "<Figure size 432x288 with 1 Axes>"
            ]
          },
          "metadata": {
            "needs_background": "light"
          }
        }
      ]
    },
    {
      "cell_type": "code",
      "metadata": {
        "colab": {
          "base_uri": "https://localhost:8080/",
          "height": 282
        },
        "id": "gC3UzdWYumka",
        "outputId": "b5671a05-9c1f-41fc-a892-56b58498935f"
      },
      "source": [
        "df3 = df1.tolist()\n",
        "df3.extend(lst_output)\n",
        "plt.plot(df3[1200:])"
      ],
      "execution_count": null,
      "outputs": [
        {
          "output_type": "execute_result",
          "data": {
            "text/plain": [
              "[<matplotlib.lines.Line2D at 0x7f486298b1d0>]"
            ]
          },
          "metadata": {},
          "execution_count": 45
        },
        {
          "output_type": "display_data",
          "data": {
            "image/png": "[encoded data removed]",
            "text/plain": [
              "<Figure size 432x288 with 1 Axes>"
            ]
          },
          "metadata": {
            "needs_background": "light"
          }
        }
      ]
    },
    {
      "cell_type": "code",
      "metadata": {
        "id": "I_3Eh2BoHwu2"
      },
      "source": [
        "from sklearn.model_selection import train_test_split\n",
        "from sklearn.tree import DecisionTreeRegressor\n",
        "from sklearn.linear_model import LinearRegression"
      ],
      "execution_count": null,
      "outputs": []
    },
    {
      "cell_type": "code",
      "metadata": {
        "colab": {
          "base_uri": "https://localhost:8080/",
          "height": 203
        },
        "id": "R16Wu81wKEX5",
        "outputId": "f207d610-5a79-4223-9673-f36b907cba7b"
      },
      "source": [
        "df4 = df[['close']]\n",
        "df4.head(5)"
      ],
      "execution_count": null,
      "outputs": [
        {
          "output_type": "execute_result",
          "data": {
            "text/html": [
              "<div>\n",
              "<style scoped>\n",
              "    .dataframe tbody tr th:only-of-type {\n",
              "        vertical-align: middle;\n",
              "    }\n",
              "\n",
              "    .dataframe tbody tr th {\n",
              "        vertical-align: top;\n",
              "    }\n",
              "\n",
              "    .dataframe thead th {\n",
              "        text-align: right;\n",
              "    }\n",
              "</style>\n",
              "<table border=\"1\" class=\"dataframe\">\n",
              "  <thead>\n",
              "    <tr style=\"text-align: right;\">\n",
              "      <th></th>\n",
              "      <th>close</th>\n",
              "    </tr>\n",
              "  </thead>\n",
              "  <tbody>\n",
              "    <tr>\n",
              "      <th>0</th>\n",
              "      <td>117.55</td>\n",
              "    </tr>\n",
              "    <tr>\n",
              "      <th>1</th>\n",
              "      <td>117.47</td>\n",
              "    </tr>\n",
              "    <tr>\n",
              "      <th>2</th>\n",
              "      <td>117.12</td>\n",
              "    </tr>\n",
              "    <tr>\n",
              "      <th>3</th>\n",
              "      <td>117.06</td>\n",
              "    </tr>\n",
              "    <tr>\n",
              "      <th>4</th>\n",
              "      <td>116.60</td>\n",
              "    </tr>\n",
              "  </tbody>\n",
              "</table>\n",
              "</div>"
            ],
            "text/plain": [
              "    close\n",
              "0  117.55\n",
              "1  117.47\n",
              "2  117.12\n",
              "3  117.06\n",
              "4  116.60"
            ]
          },
          "metadata": {},
          "execution_count": 47
        }
      ]
    },
    {
      "cell_type": "code",
      "metadata": {
        "colab": {
          "base_uri": "https://localhost:8080/",
          "height": 304
        },
        "id": "qfg_HSOQHMOF",
        "outputId": "d693acdb-2a55-4c43-a30e-f36a70f8c706"
      },
      "source": [
        "future_days1 = 30\n",
        "df4['prediction'] = df4[['close']].shift(-future_days1)\n",
        "df4.head()"
      ],
      "execution_count": null,
      "outputs": [
        {
          "output_type": "stream",
          "name": "stderr",
          "text": [
            "/usr/local/lib/python3.7/dist-packages/ipykernel_launcher.py:2: SettingWithCopyWarning: \n",
            "A value is trying to be set on a copy of a slice from a DataFrame.\n",
            "Try using .loc[row_indexer,col_indexer] = value instead\n",
            "\n",
            "See the caveats in the documentation: https://pandas.pydata.org/pandas-docs/stable/user_guide/indexing.html#returning-a-view-versus-a-copy\n",
            "  \n"
          ]
        },
        {
          "output_type": "execute_result",
          "data": {
            "text/html": [
              "<div>\n",
              "<style scoped>\n",
              "    .dataframe tbody tr th:only-of-type {\n",
              "        vertical-align: middle;\n",
              "    }\n",
              "\n",
              "    .dataframe tbody tr th {\n",
              "        vertical-align: top;\n",
              "    }\n",
              "\n",
              "    .dataframe thead th {\n",
              "        text-align: right;\n",
              "    }\n",
              "</style>\n",
              "<table border=\"1\" class=\"dataframe\">\n",
              "  <thead>\n",
              "    <tr style=\"text-align: right;\">\n",
              "      <th></th>\n",
              "      <th>close</th>\n",
              "      <th>prediction</th>\n",
              "    </tr>\n",
              "  </thead>\n",
              "  <tbody>\n",
              "    <tr>\n",
              "      <th>0</th>\n",
              "      <td>117.55</td>\n",
              "      <td>111.46</td>\n",
              "    </tr>\n",
              "    <tr>\n",
              "      <th>1</th>\n",
              "      <td>117.47</td>\n",
              "      <td>110.52</td>\n",
              "    </tr>\n",
              "    <tr>\n",
              "      <th>2</th>\n",
              "      <td>117.12</td>\n",
              "      <td>109.49</td>\n",
              "    </tr>\n",
              "    <tr>\n",
              "      <th>3</th>\n",
              "      <td>117.06</td>\n",
              "      <td>109.90</td>\n",
              "    </tr>\n",
              "    <tr>\n",
              "      <th>4</th>\n",
              "      <td>116.60</td>\n",
              "      <td>109.11</td>\n",
              "    </tr>\n",
              "  </tbody>\n",
              "</table>\n",
              "</div>"
            ],
            "text/plain": [
              "    close  prediction\n",
              "0  117.55      111.46\n",
              "1  117.47      110.52\n",
              "2  117.12      109.49\n",
              "3  117.06      109.90\n",
              "4  116.60      109.11"
            ]
          },
          "metadata": {},
          "execution_count": 48
        }
      ]
    },
    {
      "cell_type": "code",
      "metadata": {
        "colab": {
          "base_uri": "https://localhost:8080/"
        },
        "id": "JyVRcikXIVcC",
        "outputId": "477f9107-6552-4398-b3f3-f4f6df74d2db"
      },
      "source": [
        "X = np.array(df4.drop(['prediction'],1))[:-future_days1]\n",
        "print(X)"
      ],
      "execution_count": null,
      "outputs": [
        {
          "output_type": "stream",
          "name": "stdout",
          "text": [
            "[[117.55]\n",
            " [117.47]\n",
            " [117.12]\n",
            " ...\n",
            " [153.12]\n",
            " [151.83]\n",
            " [152.51]]\n"
          ]
        }
      ]
    },
    {
      "cell_type": "code",
      "metadata": {
        "colab": {
          "base_uri": "https://localhost:8080/"
        },
        "id": "WJwGocVWIl6l",
        "outputId": "d25b0d06-fd4d-4b04-b5fe-ac5aac0855fe"
      },
      "source": [
        "y = np.array(df4['prediction'])[:-future_days1]\n",
        "print(y)"
      ],
      "execution_count": null,
      "outputs": [
        {
          "output_type": "stream",
          "name": "stdout",
          "text": [
            "[111.46 110.52 109.49 ... 141.51 140.91 143.76]\n"
          ]
        }
      ]
    },
    {
      "cell_type": "code",
      "metadata": {
        "id": "2RnQdgAWIvqK"
      },
      "source": [
        "x_train, x_test, y_train, y_test = train_test_split(X, y, test_size = 0.25)"
      ],
      "execution_count": null,
      "outputs": []
    },
    {
      "cell_type": "code",
      "metadata": {
        "id": "M8NsKtM0JvB4"
      },
      "source": [
        "tree = DecisionTreeRegressor().fit(x_train, y_train)\n",
        "lr = LinearRegression().fit(x_train, y_train)"
      ],
      "execution_count": null,
      "outputs": []
    },
    {
      "cell_type": "code",
      "metadata": {
        "colab": {
          "base_uri": "https://localhost:8080/"
        },
        "id": "jhvM8wB8Kap6",
        "outputId": "a8ff98ee-e0ce-4877-a167-f23903a195b1"
      },
      "source": [
        "x_future = df4.drop(['prediction'], 1)[:-future_days1]\n",
        "x_future = x_future.tail(future_days1)\n",
        "x_future = np.array(x_future)\n",
        "x_future"
      ],
      "execution_count": null,
      "outputs": [
        {
          "output_type": "execute_result",
          "data": {
            "text/plain": [
              "array([[146.8 ],\n",
              "       [148.56],\n",
              "       [148.99],\n",
              "       [146.77],\n",
              "       [144.98],\n",
              "       [145.64],\n",
              "       [145.86],\n",
              "       [145.52],\n",
              "       [147.36],\n",
              "       [146.95],\n",
              "       [147.06],\n",
              "       [146.14],\n",
              "       [146.09],\n",
              "       [145.6 ],\n",
              "       [145.86],\n",
              "       [148.89],\n",
              "       [149.1 ],\n",
              "       [151.12],\n",
              "       [150.19],\n",
              "       [146.36],\n",
              "       [146.7 ],\n",
              "       [148.19],\n",
              "       [149.71],\n",
              "       [149.62],\n",
              "       [148.36],\n",
              "       [147.54],\n",
              "       [148.6 ],\n",
              "       [153.12],\n",
              "       [151.83],\n",
              "       [152.51]])"
            ]
          },
          "metadata": {},
          "execution_count": 53
        }
      ]
    },
    {
      "cell_type": "code",
      "metadata": {
        "colab": {
          "base_uri": "https://localhost:8080/"
        },
        "id": "oGVNvs-DKxWZ",
        "outputId": "65bbfcb5-b550-4646-a6e9-abaf100a6f92"
      },
      "source": [
        "tree_prediction = tree.predict(x_future)\n",
        "print(tree_prediction)\n",
        "print()\n",
        "\n",
        "lr_prediction = lr.predict(x_future)\n",
        "print(lr_prediction)"
      ],
      "execution_count": null,
      "outputs": [
        {
          "output_type": "stream",
          "name": "stdout",
          "text": [
            "[153.65  142.81  156.69  155.11  154.07  149.295 148.19  148.12  145.16\n",
            " 148.79  145.175 142.94  142.94  145.85  148.19  146.92  148.36  141.91\n",
            " 142.83  150.05  142.65  139.14  141.11  161.47  143.29  142.9   142.81\n",
            " 141.51  140.91  143.76 ]\n",
            "\n",
            "[161.88713478 163.03632738 163.31709603 161.86754627 160.69876516\n",
            " 161.12971239 161.27336146 161.05135834 162.25278697 161.98507733\n",
            " 162.05690187 161.45618756 161.42354004 161.10359437 161.27336146\n",
            " 163.25180099 163.38892057 164.70788026 164.10063644 161.59983663\n",
            " 161.82183975 162.79473576 163.78722027 163.72845474 162.90573731\n",
            " 162.37031803 163.0624454  166.01378094 165.171475   165.61548123]\n"
          ]
        }
      ]
    },
    {
      "cell_type": "code",
      "metadata": {
        "colab": {
          "base_uri": "https://localhost:8080/",
          "height": 396
        },
        "id": "a-PFHrgnLJeD",
        "outputId": "195a1ad0-a766-4dec-9c27-e4ffd25230b2"
      },
      "source": [
        "predictions = lr_prediction\n",
        "\n",
        "valid = df4[X.shape[0]:]\n",
        "valid['predictions'] = predictions\n",
        "plt.figure(figsize = (22,4))\n",
        "plt.title('Model')\n",
        "plt.xlabel('Days')\n",
        "plt.ylabel('ClosePrice')\n",
        "plt.plot(df4['close'])\n",
        "plt.plot(valid[['close', 'predictions']])\n",
        "plt.legend(['Orig', 'Val', 'Pred'])\n",
        "plt.show()"
      ],
      "execution_count": null,
      "outputs": [
        {
          "output_type": "stream",
          "name": "stderr",
          "text": [
            "/usr/local/lib/python3.7/dist-packages/ipykernel_launcher.py:4: SettingWithCopyWarning: \n",
            "A value is trying to be set on a copy of a slice from a DataFrame.\n",
            "Try using .loc[row_indexer,col_indexer] = value instead\n",
            "\n",
            "See the caveats in the documentation: https://pandas.pydata.org/pandas-docs/stable/user_guide/indexing.html#returning-a-view-versus-a-copy\n",
            "  after removing the cwd from sys.path.\n"
          ]
        },
        {
          "output_type": "display_data",
          "data": {
            "image/png": "[encoded data removed]",
            "text/plain": [
              "<Figure size 1584x288 with 1 Axes>"
            ]
          },
          "metadata": {
            "needs_background": "light"
          }
        }
      ]
    }
  ]
}